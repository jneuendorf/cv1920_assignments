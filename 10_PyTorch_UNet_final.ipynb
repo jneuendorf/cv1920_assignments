{
 "cells": [
  {
   "cell_type": "markdown",
   "metadata": {
    "colab_type": "text",
    "id": "ZalennMQ54nE"
   },
   "source": [
    "# Assignment 10 - UNet\n",
    "\n",
    "In this assignement we are going to program our own UNet network (https://arxiv.org/pdf/1505.04597.pdf) which is a simple but powerful one. This network is made to produce a segmentation map. This segmentation map can be a little bit smaller than the true map but keep the same spatial structure. This map however is composed of several layers, one per class. The goal for the network is to activate pixel-wisely a layer if the pixel are representing the object of the layer."
   ]
  },
  {
   "cell_type": "code",
   "execution_count": 4,
   "metadata": {
    "colab": {
     "base_uri": "https://localhost:8080/",
     "height": 487
    },
    "colab_type": "code",
    "id": "uarH9tze54nN",
    "outputId": "c03609e8-aa36-4df5-aaf7-e6adaf72de84"
   },
   "outputs": [
    {
     "data": {
      "text/html": [
       "<img src=\"https://lmb.informatik.uni-freiburg.de/people/ronneber/u-net/u-net-architecture.png\" width=\"700\"/>"
      ],
      "text/plain": [
       "<IPython.core.display.Image object>"
      ]
     },
     "execution_count": 4,
     "metadata": {
      "tags": []
     },
     "output_type": "execute_result"
    }
   ],
   "source": [
    "from IPython.display import Image\n",
    "from IPython.core.display import HTML \n",
    "Image(url= \"https://lmb.informatik.uni-freiburg.de/people/ronneber/u-net/u-net-architecture.png\", width=700)"
   ]
  },
  {
   "cell_type": "markdown",
   "metadata": {
    "colab_type": "text",
    "id": "lpZG9dBJ54nj"
   },
   "source": [
    "The network look this way. The descending part is simply made out of convolution layer and pooling, easy peasy. This part of the network allow a move from the \"Where?\" information to the \"What?\" information. Then the informations are spatially dilated through a so called \"transpose convolution\" looking like a convoltuion mixed with an inverse pooling and then you convolute. as I sayed above, there is one layer of exit per class, don't trust the drawing, the initial version of this network was only design to say yes or not (That why there is two output layer)"
   ]
  },
  {
   "cell_type": "code",
   "execution_count": 5,
   "metadata": {
    "colab": {
     "base_uri": "https://localhost:8080/",
     "height": 352
    },
    "colab_type": "code",
    "id": "1Uh9i-W454ns",
    "outputId": "7243b18f-962a-4ea6-eb43-b7e8d5c83ec0"
   },
   "outputs": [
    {
     "data": {
      "text/html": [
       "<img src=\"https://miro.medium.com/max/3200/0*mk6U6zQDuoQLK7Ca\" width=\"700\"/>"
      ],
      "text/plain": [
       "<IPython.core.display.Image object>"
      ]
     },
     "execution_count": 5,
     "metadata": {
      "tags": []
     },
     "output_type": "execute_result"
    }
   ],
   "source": [
    "Image(url= \"https://miro.medium.com/max/3200/0*mk6U6zQDuoQLK7Ca\", width=700)"
   ]
  },
  {
   "cell_type": "markdown",
   "metadata": {
    "colab_type": "text",
    "id": "MbkcMVll54n8"
   },
   "source": [
    "After each big step of convolution, the informations are stacked to the last part of the network (grey arrow) reinjecting this way the \"Where?\" information.\n",
    "\n",
    "# 10.1\n",
    "\n",
    "Yo have to reproduce this network by yourself. The images takken for this work come from the PascalVOC database (http://host.robots.ox.ac.uk/pascal/VOC/). Here you inject RGB images into your network and out a \"cube\" of maps. The label of the data are on the shape of images with one channel, the background is represented by 0 and the differents class by a unique label (all the pixel filled out of ones are representing a plan typically.)\n",
    "\n",
    "You have to use dtype=torch.float32 for the images and dtype=torch.long for the mask and every thing should run perfectly. Use also the criterion to use should be criterion = nn.CrossEntropyLoss() because he can understand the type of label injected (https://pytorch.org/docs/stable/nn.html#torch.nn.CrossEntropyLoss). \n",
    "\n",
    "Try to work on this early, the training can be slow (like 1h for 50 epoch ; batch : 100)"
   ]
  },
  {
   "cell_type": "code",
   "execution_count": 6,
   "metadata": {
    "colab": {
     "base_uri": "https://localhost:8080/",
     "height": 34
    },
    "colab_type": "code",
    "id": "A7wuyHJy54n_",
    "outputId": "c5b6d4c8-342e-45d8-89af-3058e01ad69d"
   },
   "outputs": [
    {
     "data": {
      "text/plain": [
       "'1.3.1'"
      ]
     },
     "execution_count": 6,
     "metadata": {
      "tags": []
     },
     "output_type": "execute_result"
    }
   ],
   "source": [
    "import numpy as np\n",
    "import sys\n",
    "np.set_printoptions(threshold=sys.maxsize)\n",
    "import torch\n",
    "import torchvision\n",
    "import torch.nn as nn\n",
    "from torch import optim\n",
    "from torch.optim import lr_scheduler\n",
    "import torch.nn.functional as F\n",
    "from tqdm import tqdm\n",
    "from torch.autograd import Function\n",
    "from torch.utils.data import DataLoader, random_split\n",
    "from matplotlib import pyplot as plt\n",
    "from PIL import Image\n",
    "import time\n",
    "import copy\n",
    "import os\n",
    "\n",
    "torch.__version__"
   ]
  },
  {
   "cell_type": "code",
   "execution_count": 0,
   "metadata": {
    "colab": {},
    "colab_type": "code",
    "id": "8AK2yV7C54oL"
   },
   "outputs": [],
   "source": [
    "class VOCSegLoader(torchvision.datasets.VOCSegmentation):\n",
    "    def __init__(self, \n",
    "                 root, \n",
    "                 year='2012',\n",
    "                 image_set='train',\n",
    "                 download=False,\n",
    "                 transform=None,\n",
    "                 target_transform=None,\n",
    "                 transforms=None):\n",
    "        \n",
    "        super(VOCSegLoader, self).__init__(root, year, image_set, download, transform, target_transform, transforms)\n",
    "\n",
    "\n",
    "    def __getitem__(self, index):\n",
    "        \"\"\"\n",
    "        Args:\n",
    "            index (int): Index\n",
    "\n",
    "        Returns:\n",
    "            tuple: (image, target) where target is the image segmentation.\n",
    "        \"\"\"\n",
    "        img = Image.open(self.images[index]).convert('RGB')\n",
    "        target = Image.open(self.masks[index])\n",
    "        \n",
    "        target = np.array(target)\n",
    "        target[target == 255] = 0\n",
    "        target = Image.fromarray(target)\n",
    "        \n",
    "        if self.transforms is not None:\n",
    "            img, target = self.transforms(img, target)\n",
    "        \n",
    "        target = torch.as_tensor(np.asarray(target, dtype=np.uint8), dtype=torch.long)\n",
    "        return img, target          "
   ]
  },
  {
   "cell_type": "code",
   "execution_count": 8,
   "metadata": {
    "colab": {
     "base_uri": "https://localhost:8080/",
     "height": 51
    },
    "colab_type": "code",
    "id": "UjovrkoFgj6y",
    "outputId": "350cdf5c-c48d-4b0a-f5d4-a89fdb32cab7"
   },
   "outputs": [
    {
     "name": "stderr",
     "output_type": "stream",
     "text": [
      "\r",
      "0it [00:00, ?it/s]"
     ]
    },
    {
     "name": "stdout",
     "output_type": "stream",
     "text": [
      "Downloading http://host.robots.ox.ac.uk/pascal/VOC/voc2012/VOCtrainval_11-May-2012.tar to ./data/VOCtrainval_11-May-2012.tar\n"
     ]
    },
    {
     "name": "stderr",
     "output_type": "stream",
     "text": [
      "1999642624it [03:00, 13193142.53it/s]                                "
     ]
    },
    {
     "name": "stdout",
     "output_type": "stream",
     "text": [
      "Using downloaded and verified file: ./data/VOCtrainval_11-May-2012.tar\n"
     ]
    }
   ],
   "source": [
    "n_epochs = 3\n",
    "batch_size = 4\n",
    "#batch_size_train = 100\n",
    "#batch_size_val = 100\n",
    "learning_rate = 0.001\n",
    "momentum = 0.9\n",
    "log_interval = 10\n",
    "image_size = (64, 85)\n",
    "\n",
    "\n",
    "transform_data = torchvision.transforms.Compose([torchvision.transforms.Resize(image_size), \n",
    "                                                 torchvision.transforms.ToTensor()])\n",
    "transform_label = torchvision.transforms.Compose([torchvision.transforms.Resize(image_size, interpolation=0)])\n",
    "\n",
    "\n",
    "\n",
    "image_datasets = {x: VOCSegLoader('./data', year='2012', image_set=x, download=True,\n",
    "                    transform=transform_data, target_transform=transform_label)\n",
    "                  for x in ['train', 'val']}\n",
    "dataloaders = {x: torch.utils.data.DataLoader(image_datasets[x], batch_size = batch_size)\n",
    "              for x in ['train', 'val']}\n",
    "\n",
    "\n",
    "\n",
    "dataset_sizes = {x: len(image_datasets[x]) for x in ['train', 'val']}\n",
    "\n",
    "device = torch.device(\"cuda:0\" if torch.cuda.is_available() else \"cpu\")"
   ]
  },
  {
   "cell_type": "code",
   "execution_count": 9,
   "metadata": {
    "colab": {
     "base_uri": "https://localhost:8080/",
     "height": 302
    },
    "colab_type": "code",
    "id": "qJPC0nGx54og",
    "outputId": "28766d16-24ef-4d32-99a1-06f82ca75baf"
   },
   "outputs": [
    {
     "name": "stdout",
     "output_type": "stream",
     "text": [
      "<class 'torch.Tensor'> torch.Size([3, 64, 85])\n",
      "<class 'torch.Tensor'> torch.Size([64, 85])\n"
     ]
    },
    {
     "data": {
      "image/png": "[encoded data removed]",
      "text/plain": [
       "<Figure size 432x288 with 1 Axes>"
      ]
     },
     "metadata": {
      "tags": []
     },
     "output_type": "display_data"
    }
   ],
   "source": [
    "image, target = image_datasets['train'][2]\n",
    "print(type(image), image.size())\n",
    "print(type(target), target.size())\n",
    "\n",
    "plt.figure()\n",
    "plt.imshow(np.asarray(target))\n",
    "plt.show()\n",
    "\n",
    "def imshow(inp, title=None):\n",
    "    inp = inp.numpy().transpose((1, 2, 0))\n",
    "    plt.figure(figsize=(20, 20))\n",
    "    plt.axis('off')\n",
    "    plt.imshow(inp)\n",
    "    if title is not None:\n",
    "        plt.title(title)\n",
    "    plt.pause(0.001)\n",
    "\n",
    "def show_databatch(inputs):\n",
    "    out = torchvision.utils.make_grid(inputs)\n",
    "    #print(out.numpy())\n",
    "    imshow(out)"
   ]
  },
  {
   "cell_type": "code",
   "execution_count": 0,
   "metadata": {
    "colab": {},
    "colab_type": "code",
    "id": "r_2pTfKw54op"
   },
   "outputs": [],
   "source": [
    "# NETWORK\n",
    "import torch.nn as nn\n",
    "import torch.nn.functional as F\n",
    "\n",
    "\n",
    "class Net(nn.Module):\n",
    "    def __init__(self):\n",
    "        super(Net, self).__init__()\n",
    "        self.conv1 = nn.Conv2d(3, 64, 3, padding=1)\n",
    "        self.conv2 = nn.Conv2d(64, 64, 3, padding=1)\n",
    "\n",
    "        self.maxpool = nn.MaxPool2d(2, 2)\n",
    "\n",
    "        self.conv3 = nn.Conv2d(64, 128, 3, padding=1)\n",
    "        self.conv4 = nn.Conv2d(128, 128, 3, padding=1)\n",
    "\n",
    "        self.conv5 = nn.Conv2d(128, 256, 3, padding=1)\n",
    "        self.conv6 = nn.Conv2d(256, 256, 3, padding=1)\n",
    "\n",
    "        self.conv7 = nn.Conv2d(256, 512, 3, padding=1)\n",
    "        self.conv8 = nn.Conv2d(512, 512, 3, padding=1)\n",
    "\n",
    "        self.conv9 = nn.Conv2d(512, 1024, 3, padding=1)\n",
    "        self.conv10 = nn.Conv2d(1024, 1024, 3, padding=1)\n",
    "\n",
    "        self.upconv1 = nn.ConvTranspose2d(1024, 512, 3, stride=2)\n",
    "        # cat\n",
    "        self.conv11 = nn.Conv2d(1024, 512, 3, padding=1)\n",
    "        self.conv12 = nn.Conv2d(512, 512, 3, padding=1)\n",
    "\n",
    "        self.upconv2 = nn.ConvTranspose2d(512, 256, 3, stride=2)\n",
    "        # cat\n",
    "        self.conv13 = nn.Conv2d(512, 256, 3, padding=1)\n",
    "        self.conv14 = nn.Conv2d(256, 256, 3, padding=1)\n",
    "        \n",
    "        self.upconv3 = nn.ConvTranspose2d(256, 128, 3, stride=2)\n",
    "        # cat\n",
    "        self.conv15 = nn.Conv2d(256, 128, 3, padding=1)\n",
    "        self.conv16 = nn.Conv2d(128, 128, 3, padding=1)\n",
    "\n",
    "        self.upconv4 = nn.ConvTranspose2d(128, 64, 3, stride=2)\n",
    "        # cat\n",
    "        self.conv17 = nn.Conv2d(128, 64, 3, padding=1)\n",
    "        self.conv18 = nn.Conv2d(64, 64, 3, padding=1)\n",
    "\n",
    "        self.upconvEXTRA = nn.ConvTranspose2d(64, 64, 3, stride=2)\n",
    "\n",
    "        self.conv19 = nn.Conv2d(64, 21, 1)\n",
    "        self.softmax = nn.Softmax(dim=1)\n",
    "\n",
    "    def forward(self, x):\n",
    "        return self.up(*self.down(x))\n",
    "    \n",
    "    def down(self, x):\n",
    "        a = F.relu(self.conv1(x))\n",
    "        a = self.maxpool(F.relu(self.conv2(a)))\n",
    "\n",
    "        b = F.relu(self.conv3(a))\n",
    "        b = self.maxpool(F.relu(self.conv4(b)))\n",
    "\n",
    "        c = F.relu(self.conv5(b))\n",
    "        c = self.maxpool(F.relu(self.conv6(c)))\n",
    "        \n",
    "        d = F.relu(self.conv7(c))\n",
    "        d = self.maxpool(F.relu(self.conv8(d)))\n",
    "\n",
    "        e = F.relu(self.conv9(d))\n",
    "        e = F.relu(self.conv10(e))\n",
    "\n",
    "        return e, (a, b, c, d)\n",
    "    \n",
    "    def up(self, x, low_level_info):\n",
    "        a, b, c, d = low_level_info\n",
    "\n",
    "        f = self.upconv1(x)\n",
    "        #print(d.shape,f.shape)  #torch.Size([100, 512, 3, 3])\n",
    "        f = f[:,:,2:6,2:7]\n",
    "        f = torch.cat((d,f),dim=1)\n",
    "        f = F.relu(self.conv11(f))\n",
    "        f = F.relu(self.conv12(f))\n",
    "\n",
    "        g = self.upconv2(f)\n",
    "        #print(c.shape,g.shape)\n",
    "        g = g[:,:,1:,1:]\n",
    "        g = torch.cat((c,g),dim=1)\n",
    "        g = F.relu(self.conv13(g))\n",
    "        g = F.relu(self.conv14(g))\n",
    "        \n",
    "        h = self.upconv3(g)\n",
    "        #print(b.shape,h.shape)\n",
    "        h = h[:,:,1:,:]\n",
    "        h = torch.cat((b,h),dim=1)\n",
    "        h = F.relu(self.conv15(h))\n",
    "        h = F.relu(self.conv16(h))\n",
    "\n",
    "        i = self.upconv4(h)\n",
    "        # print(a.shape,i.shape)\n",
    "        i = i[:,:,1:,1:]\n",
    "        i = torch.cat((a,i),dim=1)\n",
    "        # print(i.shape)\n",
    "        i = F.relu(self.conv17(i))\n",
    "        i = F.relu(self.conv18(i))\n",
    "\n",
    "        j = self.upconvEXTRA(i)\n",
    "        #print(j.shape)\n",
    "        j = j[:,:,1:,:]\n",
    "\n",
    "        k = self.conv19(j)\n",
    "        k = self.softmax(k)\n",
    "\n",
    "        #print(k)\n",
    "        #print(k.shape)\n",
    "        return k\n",
    "\n",
    "\n",
    "model = Net()"
   ]
  },
  {
   "cell_type": "code",
   "execution_count": 0,
   "metadata": {
    "colab": {},
    "colab_type": "code",
    "id": "jRHkELnOMaWm"
   },
   "outputs": [],
   "source": [
    "def train_model(model, criterion, optimizer, scheduler, num_epochs=25):\n",
    "    for epoch in range(num_epochs):  # loop over the dataset multiple times\n",
    "        print('Epoch {}/{}'.format(epoch + 1, num_epochs))\n",
    "        print('-' * 10)\n",
    "\n",
    "        running_loss = 0.0\n",
    "        for i, data in enumerate(dataloaders['train'], 0):\n",
    "            # get the inputs; data is a list of [inputs, labels]\n",
    "            inputs, labels = data\n",
    "            inputs = inputs.to(device)\n",
    "            labels = labels.to(device)\n",
    "\n",
    "            # zero the parameter gradients\n",
    "            optimizer.zero_grad()\n",
    "\n",
    "            # forward + backward + optimize\n",
    "            outputs = model(inputs)\n",
    "            loss = criterion(outputs, labels)\n",
    "            loss.backward()\n",
    "            optimizer.step()\n",
    "\n",
    "            # print statistics\n",
    "            running_loss += loss.item()\n",
    "            if i % 150 == 149:    # print every 150 mini-batches\n",
    "                print('[%d, %5d] loss: %.3f' %\n",
    "                    (epoch + 1, i + 1, running_loss / 150))\n",
    "                running_loss = 0.0\n",
    "\n",
    "    print('Finished Training')\n",
    "    return model"
   ]
  },
  {
   "cell_type": "code",
   "execution_count": 12,
   "metadata": {
    "colab": {
     "base_uri": "https://localhost:8080/",
     "height": 714
    },
    "colab_type": "code",
    "id": "BLvTjte8fLWh",
    "outputId": "9b9196c0-b47c-42e5-fbb5-bb27eb5eb308"
   },
   "outputs": [
    {
     "name": "stdout",
     "output_type": "stream",
     "text": [
      "Epoch 1/10\n",
      "----------\n",
      "[1,   150] loss: 3.044\n",
      "[1,   300] loss: 3.041\n",
      "Epoch 2/10\n",
      "----------\n",
      "[2,   150] loss: 3.036\n",
      "[2,   300] loss: 3.032\n",
      "Epoch 3/10\n",
      "----------\n",
      "[3,   150] loss: 3.024\n",
      "[3,   300] loss: 3.017\n",
      "Epoch 4/10\n",
      "----------\n",
      "[4,   150] loss: 3.003\n",
      "[4,   300] loss: 2.988\n",
      "Epoch 5/10\n",
      "----------\n",
      "[5,   150] loss: 2.949\n",
      "[5,   300] loss: 2.889\n",
      "Epoch 6/10\n",
      "----------\n",
      "[6,   150] loss: 2.505\n",
      "[6,   300] loss: 2.380\n",
      "Epoch 7/10\n",
      "----------\n",
      "[7,   150] loss: 2.368\n",
      "[7,   300] loss: 2.374\n",
      "Epoch 8/10\n",
      "----------\n",
      "[8,   150] loss: 2.367\n",
      "[8,   300] loss: 2.373\n",
      "Epoch 9/10\n",
      "----------\n",
      "[9,   150] loss: 2.366\n",
      "[9,   300] loss: 2.372\n",
      "Epoch 10/10\n",
      "----------\n",
      "[10,   150] loss: 2.366\n",
      "[10,   300] loss: 2.372\n",
      "Finished Training\n"
     ]
    }
   ],
   "source": [
    "model = model.to(device)\n",
    "\n",
    "criterion = nn.CrossEntropyLoss()\n",
    "\n",
    "# Observe that all parameters are being optimized\n",
    "optimizer = optim.SGD(model.parameters(), lr=0.001, momentum=0.9)\n",
    "\n",
    "# Decay LR by a factor of 0.1 every 7 epochs\n",
    "exp_lr_scheduler = lr_scheduler.StepLR(optimizer, step_size=7, gamma=0.1)\n",
    "\n",
    "model = train_model(model, criterion, optimizer, exp_lr_scheduler,\n",
    "                       num_epochs=10)"
   ]
  },
  {
   "cell_type": "code",
   "execution_count": 13,
   "metadata": {
    "colab": {
     "base_uri": "https://localhost:8080/",
     "height": 1000
    },
    "colab_type": "code",
    "id": "p3qVjcxb5ypL",
    "outputId": "e8be9ac2-fb17-453d-ee4c-4a341a3ea76d"
   },
   "outputs": [
    {
     "name": "stdout",
     "output_type": "stream",
     "text": [
      "torch.Size([4, 64, 85])\n",
      "torch.Size([4, 21, 64, 85])\n",
      "torch.Size([4, 64, 85])\n",
      "tensor([[[0.9918, 0.9987, 1.0000,  ..., 1.0000, 0.9994, 0.9952],\n",
      "         [0.9996, 1.0000, 1.0000,  ..., 1.0000, 1.0000, 0.9999],\n",
      "         [0.9994, 1.0000, 1.0000,  ..., 1.0000, 1.0000, 0.9997],\n",
      "         ...,\n",
      "         [0.9893, 0.9977, 1.0000,  ..., 1.0000, 1.0000, 0.9997],\n",
      "         [0.9474, 0.9819, 0.9988,  ..., 1.0000, 0.9991, 0.9931],\n",
      "         [0.8934, 0.9533, 0.9917,  ..., 0.9998, 0.9955, 0.9711]],\n",
      "\n",
      "        [[0.9880, 0.9976, 1.0000,  ..., 0.9997, 0.9919, 0.9720],\n",
      "         [0.9993, 0.9999, 1.0000,  ..., 1.0000, 0.9995, 0.9979],\n",
      "         [0.9989, 0.9999, 1.0000,  ..., 1.0000, 0.9997, 0.9966],\n",
      "         ...,\n",
      "         [0.9531, 0.9814, 0.9991,  ..., 0.9988, 0.9801, 0.9507],\n",
      "         [0.8828, 0.9375, 0.9876,  ..., 0.9829, 0.9280, 0.8746],\n",
      "         [0.8236, 0.8906, 0.9598,  ..., 0.9531, 0.8873, 0.8136]],\n",
      "\n",
      "        [[0.9943, 0.9992, 1.0000,  ..., 1.0000, 0.9995, 0.9961],\n",
      "         [0.9998, 1.0000, 1.0000,  ..., 1.0000, 1.0000, 0.9999],\n",
      "         [0.9996, 1.0000, 1.0000,  ..., 1.0000, 1.0000, 0.9998],\n",
      "         ...,\n",
      "         [0.9979, 0.9998, 1.0000,  ..., 0.9998, 0.9930, 0.9764],\n",
      "         [0.9774, 0.9950, 0.9999,  ..., 0.9944, 0.9607, 0.9154],\n",
      "         [0.9383, 0.9809, 0.9982,  ..., 0.9782, 0.9273, 0.8544]],\n",
      "\n",
      "        [[0.9463, 0.9789, 0.9983,  ..., 0.9452, 0.8618, 0.8110],\n",
      "         [0.9929, 0.9982, 1.0000,  ..., 0.9891, 0.9283, 0.8947],\n",
      "         [0.9920, 0.9988, 1.0000,  ..., 0.9833, 0.9276, 0.8743],\n",
      "         ...,\n",
      "         [0.9898, 0.9979, 1.0000,  ..., 0.9996, 0.9876, 0.9646],\n",
      "         [0.9457, 0.9810, 0.9986,  ..., 0.9908, 0.9455, 0.8953],\n",
      "         [0.8913, 0.9516, 0.9909,  ..., 0.9694, 0.9080, 0.8337]]],\n",
      "       device='cuda:0')\n"
     ]
    },
    {
     "data": {
      "image/png": "[encoded data removed]",
      "text/plain": [
       "<Figure size 432x288 with 1 Axes>"
      ]
     },
     "metadata": {
      "tags": []
     },
     "output_type": "display_data"
    },
    {
     "data": {
      "image/png": "[encoded data removed]",
      "text/plain": [
       "<Figure size 432x288 with 1 Axes>"
      ]
     },
     "metadata": {
      "tags": []
     },
     "output_type": "display_data"
    },
    {
     "data": {
      "image/png": "[encoded data removed]",
      "text/plain": [
       "<Figure size 432x288 with 1 Axes>"
      ]
     },
     "metadata": {
      "tags": []
     },
     "output_type": "display_data"
    },
    {
     "data": {
      "image/png": "[encoded data removed]",
      "text/plain": [
       "<Figure size 432x288 with 1 Axes>"
      ]
     },
     "metadata": {
      "tags": []
     },
     "output_type": "display_data"
    }
   ],
   "source": [
    "# VISUALIZE PREDICTION\n",
    "def visualize(model):\n",
    "    with torch.no_grad():\n",
    "        for data in dataloaders['val']:\n",
    "            inputs, labels = data\n",
    "            inputs = inputs.to(device)\n",
    "            labels = labels.to(device)\n",
    "            print(labels.shape)\n",
    "            outputs = model(inputs)\n",
    "            print(outputs.shape)\n",
    "            #print(outputs[0,:,0,0])\n",
    "            value, position = torch.max(outputs, dim=1)\n",
    "            print(value.shape)\n",
    "            #print(position.shape)\n",
    "            #print(torch.max(position[3,:,:]))\n",
    "            \n",
    "            print(value)\n",
    "\n",
    "            pred_plot1 = position[0,:,:].cpu().numpy()\n",
    "            pred_plot2 = labels[0,:,:].cpu().numpy()\n",
    "            pred_plot3 = value[0,:,:].cpu().numpy()\n",
    "            pred_plot4 = outputs[0,0,:,:].cpu().numpy()\n",
    "            \n",
    "\n",
    "            fig, ax = plt.subplots()\n",
    "            ax.imshow(pred_plot1, cmap='jet')\n",
    "            fig, ax = plt.subplots()\n",
    "            ax.imshow(pred_plot2, cmap='jet')\n",
    "            fig, ax = plt.subplots()\n",
    "            ax.imshow(pred_plot3, cmap='jet')\n",
    "            fig, ax = plt.subplots()\n",
    "            ax.imshow(pred_plot4, cmap='jet')\n",
    "            plt.show()\n",
    "\n",
    "            break\n",
    "    \n",
    "visualize(model.to(device))"
   ]
  },
  {
   "cell_type": "code",
   "execution_count": 14,
   "metadata": {
    "colab": {
     "base_uri": "https://localhost:8080/",
     "height": 34
    },
    "colab_type": "code",
    "id": "TwFufzoD-t1W",
    "outputId": "10b02470-74ab-42e7-99f3-9b0a33302198"
   },
   "outputs": [
    {
     "name": "stdout",
     "output_type": "stream",
     "text": [
      "cuda:0\n"
     ]
    }
   ],
   "source": [
    "print(device)"
   ]
  },
  {
   "cell_type": "markdown",
   "metadata": {
    "colab_type": "text",
    "id": "EbTPhrr_7LI0"
   },
   "source": [
    "For double checking we used https://github.com/bigmb/Unet-Segmentation-Pytorch-Nest-of-Unets/blob/master/Models.py\n",
    "The syntax nicer and more compact of course but we can't find any significant (semantic/theoretic) differences.\n",
    "Thus, we don't really know why our output isn't being visualized correctly. :("
   ]
  },
  {
   "cell_type": "markdown",
   "metadata": {
    "colab_type": "text",
    "id": "sLqDLY7o54o1"
   },
   "source": [
    "## 10.2\n",
    "Once you have done that, we want you to redesign a network where you remove to reinjection link (grey arrow on the drawing). You can remove the both from your choice just try and tell us if it's still working and why."
   ]
  },
  {
   "cell_type": "code",
   "execution_count": 0,
   "metadata": {
    "colab": {},
    "colab_type": "code",
    "id": "yDG04rye54o4"
   },
   "outputs": [],
   "source": [
    "import torch.nn as nn\n",
    "import torch.nn.functional as F\n",
    "\n",
    "\n",
    "class NoReinjectionUNet(Net):\n",
    "    def __init__(self, remove_reinjections=(0, 1, 2, 3)):\n",
    "        \"\"\"\n",
    "        remove_reinjections: For what (vertical) depths of the UNet \n",
    "            to remove the reinjections.\n",
    "        \"\"\"\n",
    "        super().__init__()\n",
    "        self.remove_reinjections = remove_reinjections\n",
    "\n",
    "        if 0 in remove_reinjections:\n",
    "            self.conv11 = nn.Conv2d(512, 512, 3, padding=1)\n",
    "        if 1 in remove_reinjections:\n",
    "            self.conv13 = nn.Conv2d(256, 256, 3, padding=1)\n",
    "        if 2 in remove_reinjections:\n",
    "            self.conv15 = nn.Conv2d(128, 128, 3, padding=1)\n",
    "        if 3 in remove_reinjections:\n",
    "            self.conv17 = nn.Conv2d(128, 64, 3, padding=1)\n",
    "\n",
    "    def up(self, x, low_level_info):\n",
    "        a, b, c, d = low_level_info\n",
    "\n",
    "        f = self.upconv1(x)\n",
    "        #print(d.shape,f.shape)  #torch.Size([100, 512, 3, 3])\n",
    "        if 3 not in self.remove_reinjections:\n",
    "            f = f[:,:,2:6,2:7]\n",
    "            f = torch.cat((d,f),dim=1)\n",
    "        f = F.relu(self.conv11(f))\n",
    "        f = F.relu(self.conv12(f))\n",
    "\n",
    "        g = self.upconv2(f)\n",
    "        #print(c.shape,g.shape)\n",
    "        if 2 not in self.remove_reinjections:\n",
    "            g = g[:,:,1:,1:]\n",
    "            g = torch.cat((c,g),dim=1)\n",
    "        g = F.relu(self.conv13(g))\n",
    "        g = F.relu(self.conv14(g))\n",
    "        \n",
    "        h = self.upconv3(g)\n",
    "        #print(b.shape,h.shape)\n",
    "        if 1 not in self.remove_reinjections:\n",
    "            h = h[:,:,1:,:]\n",
    "            h = torch.cat((b,h),dim=1)\n",
    "        h = F.relu(self.conv15(h))\n",
    "        h = F.relu(self.conv16(h))\n",
    "\n",
    "        i = self.upconv4(b)\n",
    "        #print(a.shape,i.shape)\n",
    "        if 0 not in self.remove_reinjections:\n",
    "            i = i[:,:,1:,1:]\n",
    "            i = torch.cat((a,i),dim=1)\n",
    "        i = F.relu(self.conv17(i))\n",
    "        i = F.relu(self.conv18(i))\n",
    "\n",
    "        j = self.upconvEXTRA(i)\n",
    "        #print(j.shape)\n",
    "        j = j[:,:,1:,:]\n",
    "\n",
    "        k = self.conv19(j)\n",
    "        k = self.softmax(k)\n",
    "\n",
    "        #print(k)\n",
    "        #print(k.shape)\n",
    "        return k\n",
    "\n",
    "model = NoReinjectionUNet()"
   ]
  },
  {
   "cell_type": "markdown",
   "metadata": {
    "colab_type": "text",
    "id": "8YfkdQso6L_N"
   },
   "source": [
    "> tell us if it's still working and why\n",
    "\n",
    "The network should still \"work\".\n",
    "By that we mean that the inputs still produce valid outputs.\n",
    "\n",
    "BUT: The accuracy will be worse than for the actual `UNet` because the low-level information about pixel positions is missing.\n"
   ]
  },
  {
   "cell_type": "markdown",
   "metadata": {
    "colab_type": "text",
    "id": "_9yesinb54pF"
   },
   "source": [
    "## 10.3 BONUSTOCOME\n",
    "\n",
    "...patiently waiting ;)"
   ]
  },
  {
   "cell_type": "code",
   "execution_count": 0,
   "metadata": {
    "colab": {},
    "colab_type": "code",
    "id": "A2H22yFC54pI"
   },
   "outputs": [],
   "source": []
  }
 ],
 "metadata": {
  "accelerator": "GPU",
  "colab": {
   "collapsed_sections": [],
   "name": "10_PyTorch_UNet copy.ipynb",
   "provenance": []
  },
  "kernelspec": {
   "display_name": "Python 3",
   "language": "python",
   "name": "python3"
  },
  "language_info": {
   "codemirror_mode": {
    "name": "ipython",
    "version": 3
   },
   "file_extension": ".py",
   "mimetype": "text/x-python",
   "name": "python",
   "nbconvert_exporter": "python",
   "pygments_lexer": "ipython3",
   "version": "3.7.6"
  }
 },
 "nbformat": 4,
 "nbformat_minor": 1
}
