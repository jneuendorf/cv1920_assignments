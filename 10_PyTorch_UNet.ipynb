{
  "nbformat": 4,
  "nbformat_minor": 0,
  "metadata": {
    "kernelspec": {
      "name": "python3",
      "display_name": "Python 3"
    },
    "language_info": {
      "codemirror_mode": {
        "name": "ipython",
        "version": 3
      },
      "file_extension": ".py",
      "mimetype": "text/x-python",
      "name": "python",
      "nbconvert_exporter": "python",
      "pygments_lexer": "ipython3",
      "version": "3.6.9"
    },
    "colab": {
      "name": "10_PyTorch_UNet.ipynb",
      "provenance": [],
      "collapsed_sections": []
    },
    "accelerator": "GPU"
  },
  "cells": [
    {
      "cell_type": "markdown",
      "metadata": {
        "id": "ZalennMQ54nE",
        "colab_type": "text"
      },
      "source": [
        "# Assignment 10 - UNet\n",
        "\n",
        "In this assignement we are going to program our own UNet network (https://arxiv.org/pdf/1505.04597.pdf) which is a simple but powerful one. This network is made to produce a segmentation map. This segmentation map can be a little bit smaller than the true map but keep the same spatial structure. This map however is composed of several layers, one per class. The goal for the network is to activate pixel-wisely a layer if the pixel are representing the object of the layer."
      ]
    },
    {
      "cell_type": "code",
      "metadata": {
        "id": "uarH9tze54nN",
        "colab_type": "code",
        "outputId": "5a941662-404c-4dfb-e3ca-9cdf75553607",
        "colab": {
          "base_uri": "https://localhost:8080/",
          "height": 488
        }
      },
      "source": [
        "from IPython.display import Image\n",
        "from IPython.core.display import HTML \n",
        "Image(url= \"https://lmb.informatik.uni-freiburg.de/people/ronneber/u-net/u-net-architecture.png\", width=700)"
      ],
      "execution_count": 1,
      "outputs": [
        {
          "output_type": "execute_result",
          "data": {
            "text/html": [
              "<img src=\"https://lmb.informatik.uni-freiburg.de/people/ronneber/u-net/u-net-architecture.png\" width=\"700\"/>"
            ],
            "text/plain": [
              "<IPython.core.display.Image object>"
            ]
          },
          "metadata": {
            "tags": []
          },
          "execution_count": 1
        }
      ]
    },
    {
      "cell_type": "markdown",
      "metadata": {
        "id": "lpZG9dBJ54nj",
        "colab_type": "text"
      },
      "source": [
        "The network look this way. The descending part is simply made out of convolution layer and pooling, easy peasy. This part of the network allow a move from the \"Where?\" information to the \"What?\" information. Then the informations are spatially dilated through a so called \"transpose convolution\" looking like a convoltuion mixed with an inverse pooling and then you convolute. as I sayed above, there is one layer of exit per class, don't trust the drawing, the initial version of this network was only design to say yes or not (That why there is two output layer)"
      ]
    },
    {
      "cell_type": "code",
      "metadata": {
        "id": "1Uh9i-W454ns",
        "colab_type": "code",
        "outputId": "b4fd06aa-a629-4f84-f40f-c4407f237e4a",
        "colab": {
          "base_uri": "https://localhost:8080/",
          "height": 353
        }
      },
      "source": [
        "Image(url= \"https://miro.medium.com/max/3200/0*mk6U6zQDuoQLK7Ca\", width=700)"
      ],
      "execution_count": 2,
      "outputs": [
        {
          "output_type": "execute_result",
          "data": {
            "text/html": [
              "<img src=\"https://miro.medium.com/max/3200/0*mk6U6zQDuoQLK7Ca\" width=\"700\"/>"
            ],
            "text/plain": [
              "<IPython.core.display.Image object>"
            ]
          },
          "metadata": {
            "tags": []
          },
          "execution_count": 2
        }
      ]
    },
    {
      "cell_type": "markdown",
      "metadata": {
        "id": "MbkcMVll54n8",
        "colab_type": "text"
      },
      "source": [
        "After each big step of convolution, the informations are stacked to the last part of the network (grey arrow) reinjecting this way the \"Where?\" information.\n",
        "\n",
        "# 8.1\n",
        "\n",
        "Yo have to reproduce this network by yourself. The images takken for this work come from the PascalVOC database (http://host.robots.ox.ac.uk/pascal/VOC/). Here you inject RGB images into your network and out a \"cube\" of maps. The label of the data are on the shape of images with one channel, the background is represented by 0 and the differents class by a unique label (all the pixel filled out of ones are representing a plan typically.)\n",
        "\n",
        "You have to use dtype=torch.float32 for the images and dtype=torch.long for the mask and every thing should run perfectly. Use also the criterion to use should be criterion = nn.CrossEntropyLoss() because he can understand the type of label injected (https://pytorch.org/docs/stable/nn.html#torch.nn.CrossEntropyLoss). \n",
        "\n",
        "Try to work on this early, the training can be slow (like 1h for 50 epoch ; batch : 100)"
      ]
    },
    {
      "cell_type": "code",
      "metadata": {
        "id": "A7wuyHJy54n_",
        "colab_type": "code",
        "outputId": "5977fefd-f571-492c-c0eb-5db6bc806435",
        "colab": {
          "base_uri": "https://localhost:8080/",
          "height": 34
        }
      },
      "source": [
        "import numpy as np\n",
        "import sys\n",
        "np.set_printoptions(threshold=sys.maxsize)\n",
        "import torch\n",
        "import torchvision\n",
        "import torch.nn as nn\n",
        "from torch import optim\n",
        "from torch.optim import lr_scheduler\n",
        "import torch.nn.functional as F\n",
        "from tqdm import tqdm\n",
        "from torch.autograd import Function\n",
        "from torch.utils.data import DataLoader, random_split\n",
        "from matplotlib import pyplot as plt\n",
        "from PIL import Image\n",
        "import time\n",
        "import copy\n",
        "import os\n",
        "\n",
        "torch.__version__"
      ],
      "execution_count": 3,
      "outputs": [
        {
          "output_type": "execute_result",
          "data": {
            "text/plain": [
              "'1.3.1'"
            ]
          },
          "metadata": {
            "tags": []
          },
          "execution_count": 3
        }
      ]
    },
    {
      "cell_type": "code",
      "metadata": {
        "id": "8AK2yV7C54oL",
        "colab_type": "code",
        "colab": {}
      },
      "source": [
        "class VOCSegLoader(torchvision.datasets.VOCSegmentation):\n",
        "    def __init__(self, \n",
        "                 root, \n",
        "                 year='2012',\n",
        "                 image_set='train',\n",
        "                 download=False,\n",
        "                 transform=None,\n",
        "                 target_transform=None,\n",
        "                 transforms=None):\n",
        "        \n",
        "        super(VOCSegLoader, self).__init__(root, year, image_set, download, transform, target_transform, transforms)\n",
        "\n",
        "\n",
        "    def __getitem__(self, index):\n",
        "        \"\"\"\n",
        "        Args:\n",
        "            index (int): Index\n",
        "\n",
        "        Returns:\n",
        "            tuple: (image, target) where target is the image segmentation.\n",
        "        \"\"\"\n",
        "        img = Image.open(self.images[index]).convert('RGB')\n",
        "        target = Image.open(self.masks[index])\n",
        "        \n",
        "        target = np.array(target)\n",
        "        target[target == 255] = 0\n",
        "        target = Image.fromarray(target)\n",
        "        \n",
        "        if self.transforms is not None:\n",
        "            img, target = self.transforms(img, target)\n",
        "        \n",
        "        target = torch.as_tensor(np.asarray(target, dtype=np.uint8), dtype=torch.long)\n",
        "        return img, target          "
      ],
      "execution_count": 0,
      "outputs": []
    },
    {
      "cell_type": "code",
      "metadata": {
        "id": "UjovrkoFgj6y",
        "colab_type": "code",
        "outputId": "f29eb8d7-77b8-4a08-83ca-b9c056887ae0",
        "colab": {
          "base_uri": "https://localhost:8080/",
          "height": 72
        }
      },
      "source": [
        "n_epochs = 3\n",
        "batch_size = 4\n",
        "#batch_size_train = 100\n",
        "#batch_size_val = 100\n",
        "learning_rate = 0.001\n",
        "momentum = 0.9\n",
        "log_interval = 10\n",
        "image_size = (64, 85)\n",
        "\n",
        "\n",
        "transform_data = torchvision.transforms.Compose([torchvision.transforms.Resize(image_size), \n",
        "                                                 torchvision.transforms.ToTensor()])\n",
        "transform_label = torchvision.transforms.Compose([torchvision.transforms.Resize(image_size, interpolation=0)])\n",
        "\n",
        "\n",
        "\n",
        "image_datasets = {x: VOCSegLoader('./data', year='2012', image_set=x, download=True,\n",
        "                    transform=transform_data, target_transform=transform_label)\n",
        "                  for x in ['train', 'val']}\n",
        "dataloaders = {x: torch.utils.data.DataLoader(image_datasets[x], batch_size = batch_size)\n",
        "              for x in ['train', 'val']}\n",
        "\n",
        "\n",
        "\n",
        "dataset_sizes = {x: len(image_datasets[x]) for x in ['train', 'val']}\n",
        "\n",
        "device = torch.device(\"cuda:0\" if torch.cuda.is_available() else \"cpu\")"
      ],
      "execution_count": 5,
      "outputs": [
        {
          "output_type": "stream",
          "text": [
            "  0%|          | 155648/1999639040 [00:00<23:10, 1438260.41it/s]"
          ],
          "name": "stderr"
        },
        {
          "output_type": "stream",
          "text": [
            "Downloading http://host.robots.ox.ac.uk/pascal/VOC/voc2012/VOCtrainval_11-May-2012.tar to ./data/VOCtrainval_11-May-2012.tar\n"
          ],
          "name": "stdout"
        },
        {
          "output_type": "stream",
          "text": [
            "1999642624it [00:40, 83165433.26it/s]                                "
          ],
          "name": "stderr"
        },
        {
          "output_type": "stream",
          "text": [
            "Using downloaded and verified file: ./data/VOCtrainval_11-May-2012.tar\n"
          ],
          "name": "stdout"
        }
      ]
    },
    {
      "cell_type": "code",
      "metadata": {
        "id": "qJPC0nGx54og",
        "colab_type": "code",
        "outputId": "bdd49e65-3d54-4e4b-a256-d4b24f6f3468",
        "colab": {
          "base_uri": "https://localhost:8080/",
          "height": 303
        }
      },
      "source": [
        "image, target = image_datasets['train'][2]\n",
        "print(type(image), image.size())\n",
        "print(type(target), target.size())\n",
        "\n",
        "plt.figure()\n",
        "plt.imshow(np.asarray(target))\n",
        "plt.show()\n",
        "\n",
        "def imshow(inp, title=None):\n",
        "    inp = inp.numpy().transpose((1, 2, 0))\n",
        "    plt.figure(figsize=(20, 20))\n",
        "    plt.axis('off')\n",
        "    plt.imshow(inp)\n",
        "    if title is not None:\n",
        "        plt.title(title)\n",
        "    plt.pause(0.001)\n",
        "\n",
        "def show_databatch(inputs):\n",
        "    out = torchvision.utils.make_grid(inputs)\n",
        "    #print(out.numpy())\n",
        "    imshow(out)"
      ],
      "execution_count": 6,
      "outputs": [
        {
          "output_type": "stream",
          "text": [
            "<class 'torch.Tensor'> torch.Size([3, 64, 85])\n",
            "<class 'torch.Tensor'> torch.Size([64, 85])\n"
          ],
          "name": "stdout"
        },
        {
          "output_type": "display_data",
          "data": {
            "image/png": "[encoded data removed]",
            "text/plain": [
              "<Figure size 432x288 with 1 Axes>"
            ]
          },
          "metadata": {
            "tags": []
          }
        }
      ]
    },
    {
      "cell_type": "code",
      "metadata": {
        "id": "r_2pTfKw54op",
        "colab_type": "code",
        "colab": {}
      },
      "source": [
        "# NETWORK\n",
        "import torch.nn as nn\n",
        "import torch.nn.functional as F\n",
        "\n",
        "\n",
        "class Net(nn.Module):\n",
        "    def __init__(self):\n",
        "        super(Net, self).__init__()\n",
        "        self.conv1 = nn.Conv2d(3, 64, 3, padding=1)\n",
        "        self.conv2 = nn.Conv2d(64, 64, 3, padding=1)\n",
        "\n",
        "        self.maxpool = nn.MaxPool2d(2, 2)\n",
        "\n",
        "        self.conv3 = nn.Conv2d(64, 128, 3, padding=1)\n",
        "        self.conv4 = nn.Conv2d(128, 128, 3, padding=1)\n",
        "        \"\"\"\n",
        "        self.conv5 = nn.Conv2d(128, 256, 3, padding=1)\n",
        "        self.conv6 = nn.Conv2d(256, 256, 3, padding=1)\n",
        "\n",
        "        self.conv7 = nn.Conv2d(256, 512, 3, padding=1)\n",
        "        self.conv8 = nn.Conv2d(512, 512, 3, padding=1)\n",
        "\n",
        "        self.conv9 = nn.Conv2d(512, 1024, 3, padding=1)\n",
        "        self.conv10 = nn.Conv2d(1024, 1024, 3, padding=1)\n",
        "\n",
        "        self.upconv1 = nn.ConvTranspose2d(1024, 512, 3, stride=2)\n",
        "        # cat\n",
        "        self.conv11 = nn.Conv2d(1024, 512, 3, padding=1)\n",
        "        self.conv12 = nn.Conv2d(512, 512, 3, padding=1)\n",
        "\n",
        "        self.upconv2 = nn.ConvTranspose2d(512, 256, 3, stride=2)\n",
        "        # cat\n",
        "        self.conv13 = nn.Conv2d(512, 256, 3, padding=1)\n",
        "        self.conv14 = nn.Conv2d(256, 256, 3, padding=1)\n",
        "        \n",
        "        self.upconv3 = nn.ConvTranspose2d(256, 128, 3, stride=2)\n",
        "        # cat\n",
        "        self.conv15 = nn.Conv2d(256, 128, 3, padding=1)\n",
        "        self.conv16 = nn.Conv2d(128, 128, 3, padding=1)\n",
        "        \"\"\"\n",
        "        self.upconv4 = nn.ConvTranspose2d(128, 64, 3, stride=2)\n",
        "        # cat\n",
        "        self.conv17 = nn.Conv2d(128, 64, 3, padding=1)\n",
        "        self.conv18 = nn.Conv2d(64, 64, 3, padding=1)\n",
        "\n",
        "        self.upconvEXTRA = nn.ConvTranspose2d(64, 64, 3, stride=2)\n",
        "\n",
        "        self.conv19 = nn.Conv2d(64, 21, 1)\n",
        "        self.softmax = nn.Softmax(dim=1)\n",
        "\n",
        "    def forward(self, x):\n",
        "        a = F.relu(self.conv1(x))\n",
        "        a = self.maxpool(F.relu(self.conv2(a)))\n",
        "\n",
        "        b = F.relu(self.conv3(a))\n",
        "        b = self.maxpool(F.relu(self.conv4(b)))\n",
        "        \"\"\"\n",
        "        c = F.relu(self.conv5(b))\n",
        "        c = self.maxpool(F.relu(self.conv6(c)))\n",
        "        \n",
        "        d = F.relu(self.conv7(c))\n",
        "        d = self.maxpool(F.relu(self.conv8(d)))\n",
        "\n",
        "        e = F.relu(self.conv9(d))\n",
        "        e = F.relu(self.conv10(e))\n",
        "\n",
        "        f = self.upconv1(e)\n",
        "        #print(d.shape,f.shape)  #torch.Size([100, 512, 3, 3])\n",
        "        f = f[:,:,2:6,2:7]\n",
        "        f = torch.cat((d,f),dim=1)\n",
        "        f = F.relu(self.conv11(f))\n",
        "        f = F.relu(self.conv12(f))\n",
        "\n",
        "        g = self.upconv2(f)\n",
        "        #print(c.shape,g.shape)\n",
        "        g = g[:,:,1:,1:]\n",
        "        g = torch.cat((c,g),dim=1)\n",
        "        g = F.relu(self.conv13(g))\n",
        "        g = F.relu(self.conv14(g))\n",
        "        \n",
        "        h = self.upconv3(g)\n",
        "        #print(b.shape,h.shape)\n",
        "        h = h[:,:,1:,:]\n",
        "        h = torch.cat((b,h),dim=1)\n",
        "        h = F.relu(self.conv15(h))\n",
        "        h = F.relu(self.conv16(h))\n",
        "        \"\"\"\n",
        "        i = self.upconv4(b)\n",
        "        #print(a.shape,i.shape)\n",
        "        i = i[:,:,1:,1:]\n",
        "        i = torch.cat((a,i),dim=1)\n",
        "        i = F.relu(self.conv17(i))\n",
        "        i = F.relu(self.conv18(i))\n",
        "\n",
        "        j = self.upconvEXTRA(i)\n",
        "        #print(j.shape)\n",
        "        j = j[:,:,1:,:]\n",
        "\n",
        "        k = self.conv19(j)\n",
        "        k = self.softmax(k)\n",
        "\n",
        "        #print(k)\n",
        "        #print(k.shape)\n",
        "        \n",
        "        return k\n",
        "\n",
        "model = Net()"
      ],
      "execution_count": 0,
      "outputs": []
    },
    {
      "cell_type": "code",
      "metadata": {
        "id": "qsdMLBI6eVqi",
        "colab_type": "code",
        "colab": {}
      },
      "source": [
        "# TRAIN FUNCTION\n",
        "def train_model(model, criterion, optimizer, scheduler, num_epochs=25):\n",
        "    since = time.time()\n",
        "\n",
        "    best_model_wts = copy.deepcopy(model.state_dict())\n",
        "    best_acc = 0.0\n",
        "\n",
        "    for epoch in range(num_epochs):\n",
        "        print('Epoch {}/{}'.format(epoch+1, num_epochs))\n",
        "        print('-' * 10)\n",
        "\n",
        "        # Each epoch has a training and validation phase\n",
        "        for phase in ['train', 'val']:\n",
        "            if phase == 'train':\n",
        "                model.train()  # Set model to training mode\n",
        "            else:\n",
        "                model.eval()   # Set model to evaluate mode\n",
        "\n",
        "            running_loss = 0.0\n",
        "            running_corrects = 0\n",
        "\n",
        "            # Iterate over data.\n",
        "            for inputs, labels in dataloaders[phase]:\n",
        "                inputs = inputs.to(device)\n",
        "                labels = labels.to(device)\n",
        "\n",
        "                # zero the parameter gradients\n",
        "                optimizer.zero_grad()\n",
        "\n",
        "                # forward\n",
        "                # track history if only in train\n",
        "                with torch.set_grad_enabled(phase == 'train'):\n",
        "                    outputs = model(inputs)\n",
        "                    _, preds = torch.max(outputs, 1)\n",
        "                    #print(outputs.shape)\n",
        "                    loss = criterion(outputs, labels)\n",
        "\n",
        "                    # backward + optimize only if in training phase\n",
        "                    if phase == 'train':\n",
        "                        loss.backward()\n",
        "                        optimizer.step()\n",
        "\n",
        "                # statistics\n",
        "                running_loss += loss.item() * inputs.size(0)\n",
        "                running_corrects += torch.sum(preds == labels.data)\n",
        "\n",
        "                #break\n",
        "            if phase == 'train':\n",
        "                scheduler.step()\n",
        "\n",
        "            epoch_loss = running_loss / dataset_sizes[phase]\n",
        "            epoch_acc = running_corrects.double() / dataset_sizes[phase]\n",
        "\n",
        "            print('{} Loss: {:.4f} Acc: {:.4f}'.format(\n",
        "                phase, epoch_loss, epoch_acc))\n",
        "\n",
        "            # deep copy the model\n",
        "            if phase == 'val' and epoch_acc > best_acc:\n",
        "                best_acc = epoch_acc\n",
        "                best_model_wts = copy.deepcopy(model.state_dict())\n",
        "\n",
        "        print()\n",
        "\n",
        "    time_elapsed = time.time() - since\n",
        "    print('Training complete in {:.0f}m {:.0f}s'.format(\n",
        "        time_elapsed // 60, time_elapsed % 60))\n",
        "    print('Best val Acc: {:4f}'.format(best_acc))\n",
        "\n",
        "    # load best model weights\n",
        "    model.load_state_dict(best_model_wts)\n",
        "    return model"
      ],
      "execution_count": 0,
      "outputs": []
    },
    {
      "cell_type": "code",
      "metadata": {
        "id": "BLvTjte8fLWh",
        "colab_type": "code",
        "colab": {}
      },
      "source": [
        "model = model.to(device)\n",
        "\n",
        "criterion = nn.CrossEntropyLoss()\n",
        "\n",
        "# Observe that all parameters are being optimized\n",
        "optimizer = optim.SGD(model.parameters(), lr=0.001, momentum=0.9)\n",
        "\n",
        "# Decay LR by a factor of 0.1 every 7 epochs\n",
        "exp_lr_scheduler = lr_scheduler.StepLR(optimizer, step_size=7, gamma=0.1)"
      ],
      "execution_count": 0,
      "outputs": []
    },
    {
      "cell_type": "code",
      "metadata": {
        "id": "8hclcln0fSvq",
        "colab_type": "code",
        "outputId": "313be622-3d1e-4a58-80ce-c7d58fccd6e9",
        "colab": {
          "base_uri": "https://localhost:8080/",
          "height": 312
        }
      },
      "source": [
        "model = train_model(model, criterion, optimizer, exp_lr_scheduler,\n",
        "                       num_epochs=3)"
      ],
      "execution_count": 75,
      "outputs": [
        {
          "output_type": "stream",
          "text": [
            "Epoch 1/3\n",
            "----------\n",
            "train Loss: 3.0446 Acc: 43.7213\n",
            "val Loss: 3.0414 Acc: 61.9917\n",
            "\n",
            "Epoch 2/3\n",
            "----------\n",
            "train Loss: 3.0374 Acc: 3677.3149\n",
            "val Loss: 3.0328 Acc: 4065.6391\n",
            "\n",
            "Epoch 3/3\n",
            "----------\n",
            "train Loss: 3.0266 Acc: 4073.1366\n",
            "val Loss: 3.0191 Acc: 4065.6391\n",
            "\n",
            "Training complete in 1m 7s\n",
            "Best val Acc: 4065.639061\n"
          ],
          "name": "stdout"
        }
      ]
    },
    {
      "cell_type": "code",
      "metadata": {
        "id": "p3qVjcxb5ypL",
        "colab_type": "code",
        "outputId": "8a7ce080-1285-4488-ba3b-c570ccd4be9f",
        "colab": {
          "base_uri": "https://localhost:8080/",
          "height": 1000
        }
      },
      "source": [
        "# VISUALIZE PREDICTION\n",
        "def visualize(model):\n",
        "    with torch.no_grad():\n",
        "        for data in dataloaders['val']:\n",
        "            inputs, labels = data\n",
        "            inputs = inputs.to(device)\n",
        "            labels = labels.to(device)\n",
        "            print(labels.shape)\n",
        "            outputs = model(inputs)\n",
        "            print(outputs.shape)\n",
        "            #print(outputs[0,:,0,0])\n",
        "            value, position = torch.max(outputs, dim=1)\n",
        "            print(value.shape)\n",
        "            #print(position.shape)\n",
        "            #print(torch.max(position[3,:,:]))\n",
        "            \n",
        "            print(value)\n",
        "\n",
        "            pred_plot1 = position[0,:,:].cpu().numpy()\n",
        "            pred_plot2 = labels[0,:,:].cpu().numpy()\n",
        "            pred_plot3 = value[0,:,:].cpu().numpy()\n",
        "            pred_plot4 = outputs[0,0,:,:].cpu().numpy()\n",
        "            \n",
        "\n",
        "            fig, ax = plt.subplots()\n",
        "            ax.imshow(pred_plot1, cmap='jet')\n",
        "            fig, ax = plt.subplots()\n",
        "            ax.imshow(pred_plot2, cmap='jet')\n",
        "            fig, ax = plt.subplots()\n",
        "            ax.imshow(pred_plot3, cmap='jet')\n",
        "            fig, ax = plt.subplots()\n",
        "            ax.imshow(pred_plot4, cmap='jet')\n",
        "            plt.show()\n",
        "\n",
        "            break\n",
        "    \n",
        "visualize(model)"
      ],
      "execution_count": 77,
      "outputs": [
        {
          "output_type": "stream",
          "text": [
            "torch.Size([4, 64, 85])\n",
            "torch.Size([4, 21, 64, 85])\n",
            "torch.Size([4, 64, 85])\n",
            "tensor([[[0.0636, 0.0636, 0.0637,  ..., 0.0637, 0.0636, 0.0635],\n",
            "         [0.0639, 0.0635, 0.0642,  ..., 0.0639, 0.0636, 0.0634],\n",
            "         [0.0638, 0.0637, 0.0639,  ..., 0.0639, 0.0636, 0.0635],\n",
            "         ...,\n",
            "         [0.0638, 0.0636, 0.0639,  ..., 0.0636, 0.0638, 0.0634],\n",
            "         [0.0636, 0.0635, 0.0639,  ..., 0.0639, 0.0636, 0.0636],\n",
            "         [0.0634, 0.0636, 0.0631,  ..., 0.0630, 0.0637, 0.0633]],\n",
            "\n",
            "        [[0.0636, 0.0636, 0.0637,  ..., 0.0636, 0.0636, 0.0635],\n",
            "         [0.0639, 0.0635, 0.0641,  ..., 0.0640, 0.0636, 0.0635],\n",
            "         [0.0638, 0.0637, 0.0639,  ..., 0.0638, 0.0636, 0.0635],\n",
            "         ...,\n",
            "         [0.0638, 0.0636, 0.0639,  ..., 0.0639, 0.0637, 0.0635],\n",
            "         [0.0636, 0.0635, 0.0638,  ..., 0.0637, 0.0635, 0.0635],\n",
            "         [0.0634, 0.0636, 0.0632,  ..., 0.0632, 0.0636, 0.0633]],\n",
            "\n",
            "        [[0.0637, 0.0636, 0.0637,  ..., 0.0637, 0.0636, 0.0635],\n",
            "         [0.0639, 0.0635, 0.0642,  ..., 0.0639, 0.0636, 0.0634],\n",
            "         [0.0638, 0.0637, 0.0640,  ..., 0.0639, 0.0636, 0.0635],\n",
            "         ...,\n",
            "         [0.0638, 0.0636, 0.0639,  ..., 0.0638, 0.0637, 0.0635],\n",
            "         [0.0637, 0.0635, 0.0640,  ..., 0.0637, 0.0635, 0.0635],\n",
            "         [0.0634, 0.0636, 0.0630,  ..., 0.0632, 0.0637, 0.0633]],\n",
            "\n",
            "        [[0.0636, 0.0636, 0.0636,  ..., 0.0636, 0.0635, 0.0635],\n",
            "         [0.0638, 0.0636, 0.0641,  ..., 0.0640, 0.0636, 0.0636],\n",
            "         [0.0637, 0.0636, 0.0638,  ..., 0.0637, 0.0635, 0.0636],\n",
            "         ...,\n",
            "         [0.0638, 0.0636, 0.0639,  ..., 0.0639, 0.0637, 0.0635],\n",
            "         [0.0636, 0.0635, 0.0639,  ..., 0.0637, 0.0635, 0.0635],\n",
            "         [0.0634, 0.0636, 0.0631,  ..., 0.0632, 0.0637, 0.0633]]],\n",
            "       device='cuda:0')\n"
          ],
          "name": "stdout"
        },
        {
          "output_type": "display_data",
          "data": {
            "image/png": "[encoded data removed]",
            "text/plain": [
              "<Figure size 432x288 with 1 Axes>"
            ]
          },
          "metadata": {
            "tags": []
          }
        },
        {
          "output_type": "display_data",
          "data": {
            "image/png": "[encoded data removed]",
            "text/plain": [
              "<Figure size 432x288 with 1 Axes>"
            ]
          },
          "metadata": {
            "tags": []
          }
        },
        {
          "output_type": "display_data",
          "data": {
            "image/png": "[encoded data removed]",
            "text/plain": [
              "<Figure size 432x288 with 1 Axes>"
            ]
          },
          "metadata": {
            "tags": []
          }
        },
        {
          "output_type": "display_data",
          "data": {
            "image/png": "[encoded data removed]",
            "text/plain": [
              "<Figure size 432x288 with 1 Axes>"
            ]
          },
          "metadata": {
            "tags": []
          }
        }
      ]
    },
    {
      "cell_type": "markdown",
      "metadata": {
        "id": "sLqDLY7o54o1",
        "colab_type": "text"
      },
      "source": [
        "## 8.2\n",
        "Once you have done that, we want you to redesign a network where you remove to reinjection link (grey arrow on the drawing). You can remove the both from your choice just try and tell us if it's still working and why."
      ]
    },
    {
      "cell_type": "code",
      "metadata": {
        "id": "yDG04rye54o4",
        "colab_type": "code",
        "colab": {}
      },
      "source": [
        "#TODO"
      ],
      "execution_count": 0,
      "outputs": []
    },
    {
      "cell_type": "markdown",
      "metadata": {
        "id": "_9yesinb54pF",
        "colab_type": "text"
      },
      "source": [
        "## 8.3 BONUSTOCOME"
      ]
    },
    {
      "cell_type": "code",
      "metadata": {
        "id": "A2H22yFC54pI",
        "colab_type": "code",
        "colab": {}
      },
      "source": [
        ""
      ],
      "execution_count": 0,
      "outputs": []
    }
  ]
}