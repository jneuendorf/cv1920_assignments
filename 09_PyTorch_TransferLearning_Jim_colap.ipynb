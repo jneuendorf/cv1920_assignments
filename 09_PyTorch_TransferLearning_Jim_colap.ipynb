{
 "cells": [
  {
   "cell_type": "markdown",
   "metadata": {
    "colab_type": "text",
    "id": "Dw2Lkqb8S7vq"
   },
   "source": [
    "# Assignment 9\n",
    "\n",
    "Neural need huge amount of data to be able to perform well. Huge amount of data means huge computation power... To bypass the fact that we don't own this kind of machine, we will us the transfer leaning. By using a pretrained network (usually on ImageNet) and train it a little bit, we can avoid most of the computationnal power needed to perform our task. We will work on the ResNet network (https://arxiv.org/pdf/1512.03385.pdf) designed in 2014. \n",
    "Then, because we know you all have a degree in medicine, we will try our luck bu doing some! We will then retrain the last layer of the network to be able to recognize leopard and cheetah. The cheetah mini database is in the image folder."
   ]
  },
  {
   "cell_type": "code",
   "execution_count": 4,
   "metadata": {
    "ExecuteTime": {
     "end_time": "2020-01-10T12:50:47.089693Z",
     "start_time": "2020-01-10T12:50:45.623080Z"
    },
    "colab": {
     "base_uri": "https://localhost:8080/",
     "height": 34
    },
    "colab_type": "code",
    "id": "ZfW8aon7S7vs",
    "outputId": "d04707dc-8506-45d1-f3d5-821ca18df122"
   },
   "outputs": [
    {
     "name": "stdout",
     "output_type": "stream",
     "text": [
      "<module 'torch' from '/usr/local/lib/python3.6/dist-packages/torch/__init__.py'>\n"
     ]
    }
   ],
   "source": [
    "from __future__ import print_function, division\n",
    "import torch\n",
    "import torch.nn as nn\n",
    "import torch.optim as optim\n",
    "from torch.optim import lr_scheduler\n",
    "import numpy as np\n",
    "import torchvision\n",
    "from torchvision import datasets, models, transforms\n",
    "import matplotlib.pyplot as plt\n",
    "import time\n",
    "import os\n",
    "import copy\n",
    "\n",
    "print(torch)\n",
    "\n",
    "plt.ion()   # interactive mode"
   ]
  },
  {
   "cell_type": "code",
   "execution_count": 5,
   "metadata": {
    "colab": {
     "base_uri": "https://localhost:8080/",
     "height": 34
    },
    "colab_type": "code",
    "id": "FIT39nfmVGCL",
    "outputId": "a764c38a-07d6-4ae9-fd92-422563ce392d"
   },
   "outputs": [
    {
     "name": "stdout",
     "output_type": "stream",
     "text": [
      "Drive already mounted at /content/drive; to attempt to forcibly remount, call drive.mount(\"/content/drive\", force_remount=True).\n"
     ]
    }
   ],
   "source": [
    "from google.colab import drive\n",
    "drive.mount('/content/drive')"
   ]
  },
  {
   "cell_type": "code",
   "execution_count": 6,
   "metadata": {
    "ExecuteTime": {
     "end_time": "2020-01-10T12:50:47.130783Z",
     "start_time": "2020-01-10T12:50:47.092751Z"
    },
    "colab": {
     "base_uri": "https://localhost:8080/",
     "height": 102
    },
    "colab_type": "code",
    "id": "5j79HAapS7vv",
    "outputId": "07d438bb-58be-4157-eff8-f53af332d75c"
   },
   "outputs": [
    {
     "name": "stdout",
     "output_type": "stream",
     "text": [
      "cuda:0\n",
      "Loaded 450 images under train\n",
      "Loaded 162 images under val\n",
      "Classes: \n",
      "['cheetah', 'leopard', 'unknown']\n"
     ]
    }
   ],
   "source": [
    "data_dir = '/content/drive/My Drive/Colab Notebooks/images/cheetah_data_mini'\n",
    "TRAIN = 'train'\n",
    "TEST = 'val'\n",
    "\n",
    "# ResNet Takes 224x224 images as input, so we resize all of them\n",
    "data_transforms = {\n",
    "    TRAIN: transforms.Compose([\n",
    "        transforms.RandomResizedCrop(224),\n",
    "        transforms.RandomHorizontalFlip(),\n",
    "        transforms.ToTensor(),\n",
    "        transforms.Normalize([0.485, 0.456, 0.406], [0.229, 0.224, 0.225])\n",
    "    ]),\n",
    "    TEST: transforms.Compose([\n",
    "        transforms.Resize(256),\n",
    "        transforms.CenterCrop(224),\n",
    "        transforms.ToTensor(),\n",
    "        transforms.Normalize([0.485, 0.456, 0.406], [0.229, 0.224, 0.225])\n",
    "    ]),\n",
    "}\n",
    "\n",
    "image_datasets = {\n",
    "    x: datasets.ImageFolder(\n",
    "        os.path.join(data_dir, x), \n",
    "        transform=data_transforms[x]\n",
    "    )\n",
    "    for x in [TRAIN, TEST]\n",
    "}\n",
    "\n",
    "dataloaders = {\n",
    "    x: torch.utils.data.DataLoader(\n",
    "        image_datasets[x], batch_size=4,\n",
    "        shuffle=True, num_workers=4\n",
    "    )\n",
    "    for x in [TRAIN, TEST]\n",
    "}\n",
    "\n",
    "dataset_sizes = {x: len(image_datasets[x]) for x in [TRAIN, TEST]}\n",
    "\n",
    "device = torch.device(\"cuda:0\" if torch.cuda.is_available() else \"cpu\")\n",
    "print(device)\n",
    "\n",
    "for x in [TRAIN, TEST]:\n",
    "    print(\"Loaded {} images under {}\".format(dataset_sizes[x], x))\n",
    "    \n",
    "print(\"Classes: \")\n",
    "class_names = image_datasets[TRAIN].classes\n",
    "print(image_datasets[TRAIN].classes)"
   ]
  },
  {
   "cell_type": "code",
   "execution_count": 7,
   "metadata": {
    "ExecuteTime": {
     "end_time": "2020-01-10T12:50:47.176999Z",
     "start_time": "2020-01-10T12:50:47.136283Z"
    },
    "colab": {
     "base_uri": "https://localhost:8080/",
     "height": 182
    },
    "colab_type": "code",
    "id": "huSB861FS7vx",
    "outputId": "d8698cca-4068-4201-ac26-b0f90a119091"
   },
   "outputs": [
    {
     "name": "stderr",
     "output_type": "stream",
     "text": [
      "Clipping input data to the valid range for imshow with RGB data ([0..1] for floats or [0..255] for integers).\n"
     ]
    },
    {
     "name": "stdout",
     "output_type": "stream",
     "text": [
      "torch.Size([3, 228, 906])\n",
      "torch.Size([3, 228])\n"
     ]
    },
    {
     "data": {
      "image/png": "[encoded data removed]",
      "text/plain": [
       "<Figure size 432x288 with 1 Axes>"
      ]
     },
     "metadata": {
      "tags": []
     },
     "output_type": "display_data"
    }
   ],
   "source": [
    "def imshow(inp, title=None):\n",
    "    inp = inp.numpy().transpose((1, 2, 0))\n",
    "    # plt.figure(figsize=(10, 10))\n",
    "    plt.axis('off')\n",
    "    plt.imshow(inp)\n",
    "    if title is not None:\n",
    "        plt.title(title)\n",
    "    plt.pause(0.001)\n",
    "\n",
    "def show_databatch(inputs, classes):\n",
    "    out = torchvision.utils.make_grid(inputs)\n",
    "    print(out.shape)\n",
    "    print(out[:,:,15].shape)\n",
    "    imshow(out, title=[class_names[x] for x in classes])\n",
    "\n",
    "\n",
    "# Get a batch of training data\n",
    "inputs, classes = next(iter(dataloaders[TRAIN]))\n",
    "show_databatch(inputs, classes)"
   ]
  },
  {
   "cell_type": "markdown",
   "metadata": {
    "colab_type": "text",
    "id": "mHKYy-oSS7v0"
   },
   "source": [
    "## Pretrained network\n",
    "\n",
    "Now load a network pre-trained on Imagenet and classify the validation data. You can import a pretrained model directly from pytorch with models.resnet18(pretrained=True). The labels are already used in ImageNet so try to recognize the database directly using the output of the pretrained network on the validation database."
   ]
  },
  {
   "cell_type": "code",
   "execution_count": 8,
   "metadata": {
    "ExecuteTime": {
     "end_time": "2020-01-10T12:50:47.845114Z",
     "start_time": "2020-01-10T12:50:47.183496Z"
    },
    "colab": {
     "base_uri": "https://localhost:8080/",
     "height": 51
    },
    "colab_type": "code",
    "id": "BkUTrxXgS7v0",
    "outputId": "bf2ba496-8cc7-47a4-9ca7-8968a014a24e"
   },
   "outputs": [
    {
     "name": "stderr",
     "output_type": "stream",
     "text": [
      "Downloading: \"https://download.pytorch.org/models/resnet18-5c106cde.pth\" to /root/.cache/torch/checkpoints/resnet18-5c106cde.pth\n",
      "100%|██████████| 44.7M/44.7M [00:01<00:00, 25.8MB/s]\n"
     ]
    }
   ],
   "source": [
    "# NET\n",
    "model_vanilla = torchvision.models.resnet18(pretrained=True)\n",
    "# model_vanilla = model_vanilla.to(device)"
   ]
  },
  {
   "cell_type": "code",
   "execution_count": 0,
   "metadata": {
    "ExecuteTime": {
     "end_time": "2020-01-10T12:50:47.862655Z",
     "start_time": "2020-01-10T12:50:47.848232Z"
    },
    "colab": {},
    "colab_type": "code",
    "id": "mynvIm7_S7v2"
   },
   "outputs": [],
   "source": [
    "for param in model_vanilla.parameters():\n",
    "    param.requires_grad = False"
   ]
  },
  {
   "cell_type": "code",
   "execution_count": 0,
   "metadata": {
    "ExecuteTime": {
     "end_time": "2020-01-10T12:50:47.905410Z",
     "start_time": "2020-01-10T12:50:47.890015Z"
    },
    "colab": {},
    "colab_type": "code",
    "id": "vtzbu6u1S7v4"
   },
   "outputs": [],
   "source": [
    "# cheetah = 293; leopard = 288;"
   ]
  },
  {
   "cell_type": "code",
   "execution_count": 11,
   "metadata": {
    "ExecuteTime": {
     "end_time": "2020-01-10T12:51:06.966532Z",
     "start_time": "2020-01-10T12:50:47.910742Z"
    },
    "colab": {
     "base_uri": "https://localhost:8080/",
     "height": 34
    },
    "colab_type": "code",
    "id": "KkZ8IyupS7v5",
    "outputId": "5e19b5c1-3463-4075-c642-02ade04a8398"
   },
   "outputs": [
    {
     "name": "stdout",
     "output_type": "stream",
     "text": [
      "Accuracy: 33 %\n"
     ]
    }
   ],
   "source": [
    "# TEST THE NET ON OUR DATASET\n",
    "def switch_class_idx(predicted):\n",
    "    for x in range(predicted.shape[0]):\n",
    "        if predicted[x] == 293:\n",
    "            predicted[x] = 0\n",
    "        elif predicted[x] == 288:\n",
    "            predicted[x] = 1\n",
    "        else:\n",
    "            predicted[x] = 2\n",
    "    return predicted\n",
    "\n",
    "def val_pretrained(model):\n",
    "    correct = 0\n",
    "    total = 0\n",
    "    with torch.no_grad():\n",
    "        for data in dataloaders[TEST]:\n",
    "            inputs, labels = data\n",
    "            # inputs = inputs.to(device)\n",
    "            # labels = labels.to(device)\n",
    "            outputs = model(inputs)\n",
    "            _, predicted = torch.max(outputs.data, 1)\n",
    "            # print(predicted)\n",
    "            predicted = switch_class_idx(predicted)\n",
    "            #print(labels, predicted)\n",
    "            total += labels.size(0)\n",
    "            correct += (predicted == labels).sum().item()\n",
    "\n",
    "    print('Accuracy: %d %%' % (\n",
    "        100 * correct / total))\n",
    "\n",
    "val_pretrained(model_vanilla)"
   ]
  },
  {
   "cell_type": "markdown",
   "metadata": {
    "colab_type": "text",
    "id": "hWiRfJR1S7v7"
   },
   "source": [
    "## Transfer learning\n",
    "\n",
    "The pre-trained network can now be further trained with our data. Replace the last layer in the network with a fully connected Layer with 3 outputs for our classes cheetah, leopard and unknown. Then train the last layer of the network."
   ]
  },
  {
   "cell_type": "code",
   "execution_count": 0,
   "metadata": {
    "ExecuteTime": {
     "end_time": "2020-01-10T12:59:18.824842Z",
     "start_time": "2020-01-10T12:59:18.775586Z"
    },
    "colab": {},
    "colab_type": "code",
    "id": "JWhtGNENS7v8"
   },
   "outputs": [],
   "source": [
    "import copy\n",
    "\n",
    "\n",
    "def train_model(model, criterion, optimizer, scheduler, num_epochs=25):\n",
    "    since = time.time()\n",
    "    best_model_wts = copy.deepcopy(model.state_dict())\n",
    "    best_acc = 0.0\n",
    "\n",
    "    for epoch in range(num_epochs):\n",
    "        print('Epoch {}/{}'.format(epoch+1, num_epochs))\n",
    "        print('-' * 10)\n",
    "\n",
    "        # Each epoch has a training and validation phase\n",
    "        for phase in [TRAIN, TEST]:\n",
    "            if phase == TRAIN:\n",
    "                model.train()  # Set model to training mode\n",
    "            else:\n",
    "                model.eval()   # Set model to evaluate mode\n",
    "\n",
    "            running_loss = 0.0\n",
    "            running_corrects = 0\n",
    "\n",
    "            # Iterate over data.\n",
    "            for inputs, labels in dataloaders[phase]:\n",
    "                # inputs = inputs.to(device)\n",
    "                # labels = labels.to(device)\n",
    "                \n",
    "                # zero the parameter gradients\n",
    "                optimizer.zero_grad()\n",
    "\n",
    "                # forward\n",
    "                # track history if only in train\n",
    "                with torch.set_grad_enabled(phase == TRAIN):\n",
    "                    outputs = model(inputs)\n",
    "                    _, preds = torch.max(outputs, 1)\n",
    "                    loss = criterion(outputs, labels)\n",
    "                    # backward + optimize only if in training phase\n",
    "                    if phase == TRAIN:\n",
    "                        loss.backward()\n",
    "                        optimizer.step()\n",
    "\n",
    "                # statistics\n",
    "                running_loss += loss.item() * inputs.size(0)\n",
    "                running_corrects += torch.sum(preds == labels.data)\n",
    "                    \n",
    "            if phase == TRAIN:\n",
    "                scheduler.step()\n",
    "\n",
    "            epoch_loss = running_loss / dataset_sizes[phase]\n",
    "            epoch_acc = running_corrects.double() / dataset_sizes[phase]\n",
    "\n",
    "            print('{} Loss: {:.4f} Acc: {:.4f}'.format(\n",
    "                phase, epoch_loss, epoch_acc))\n",
    "\n",
    "            # deep copy the model\n",
    "            if phase == 'val' and epoch_acc > best_acc:\n",
    "                best_acc = epoch_acc\n",
    "                best_model_wts = copy.deepcopy(model.state_dict())\n",
    "\n",
    "        print()\n",
    "\n",
    "    time_elapsed = time.time() - since\n",
    "    print('Training complete in {:.0f}m {:.0f}s'.format(\n",
    "        time_elapsed // 60, time_elapsed % 60))\n",
    "\n",
    "    # load best model weights\n",
    "    model.load_state_dict(best_model_wts)\n",
    "    return model"
   ]
  },
  {
   "cell_type": "code",
   "execution_count": 0,
   "metadata": {
    "ExecuteTime": {
     "end_time": "2020-01-10T15:24:54.060907Z",
     "start_time": "2020-01-10T15:24:53.411054Z"
    },
    "colab": {},
    "colab_type": "code",
    "id": "r8GTdG8BS7v9"
   },
   "outputs": [],
   "source": [
    "# FEATURE EXTRACTING\n",
    "model_extract = torchvision.models.resnet18(pretrained=True)\n",
    "for param in model_extract.parameters():\n",
    "    param.requires_grad = False\n",
    "\n",
    "# Parameters of newly constructed modules have requires_grad=True by default\n",
    "num_ftrs = model_extract.fc.in_features\n",
    "model_extract.fc = nn.Linear(num_ftrs, 3)\n",
    "# model_extract = model_extract.to(device)\n",
    "\n",
    "criterion = nn.CrossEntropyLoss()\n",
    "optimizer_ext = optim.SGD(model_extract.fc.parameters(), lr=.0001, momentum=0.9)\n",
    "\n",
    "# Decay LR by a factor\n",
    "exp_lr_scheduler = lr_scheduler.StepLR(optimizer_ext, step_size=5, gamma=0.1)"
   ]
  },
  {
   "cell_type": "code",
   "execution_count": 17,
   "metadata": {
    "ExecuteTime": {
     "end_time": "2020-01-10T15:52:40.417855Z",
     "start_time": "2020-01-10T15:24:55.106853Z"
    },
    "colab": {
     "base_uri": "https://localhost:8080/",
     "height": 1000
    },
    "colab_type": "code",
    "id": "IpcfvyRjS7v_",
    "outputId": "d06aecc9-ec72-4b26-d8cb-520f31ef8cfe"
   },
   "outputs": [
    {
     "name": "stdout",
     "output_type": "stream",
     "text": [
      "Epoch 1/50\n",
      "----------\n",
      "train Loss: 0.6311 Acc: 0.8111\n",
      "val Loss: 0.8420 Acc: 0.5679\n",
      "\n",
      "Epoch 2/50\n",
      "----------\n",
      "train Loss: 0.6781 Acc: 0.7467\n",
      "val Loss: 0.8289 Acc: 0.6420\n",
      "\n",
      "Epoch 3/50\n",
      "----------\n",
      "train Loss: 0.6274 Acc: 0.7756\n",
      "val Loss: 0.8256 Acc: 0.6111\n",
      "\n",
      "Epoch 4/50\n",
      "----------\n",
      "train Loss: 0.6341 Acc: 0.7778\n",
      "val Loss: 0.7828 Acc: 0.7160\n",
      "\n",
      "Epoch 5/50\n",
      "----------\n",
      "train Loss: 0.6181 Acc: 0.7978\n",
      "val Loss: 0.8357 Acc: 0.6049\n",
      "\n",
      "Epoch 6/50\n",
      "----------\n",
      "train Loss: 0.6768 Acc: 0.7400\n",
      "val Loss: 0.8089 Acc: 0.6111\n",
      "\n",
      "Epoch 7/50\n",
      "----------\n",
      "train Loss: 0.6442 Acc: 0.7822\n",
      "val Loss: 0.8537 Acc: 0.6235\n",
      "\n",
      "Epoch 8/50\n",
      "----------\n",
      "train Loss: 0.6708 Acc: 0.7489\n",
      "val Loss: 0.8059 Acc: 0.6235\n",
      "\n",
      "Epoch 9/50\n",
      "----------\n",
      "train Loss: 0.6500 Acc: 0.7556\n",
      "val Loss: 0.8358 Acc: 0.5926\n",
      "\n",
      "Epoch 10/50\n",
      "----------\n",
      "train Loss: 0.6116 Acc: 0.7889\n",
      "val Loss: 0.8594 Acc: 0.5617\n",
      "\n",
      "Epoch 11/50\n",
      "----------\n",
      "train Loss: 0.6794 Acc: 0.7622\n",
      "val Loss: 0.8166 Acc: 0.6049\n",
      "\n",
      "Epoch 12/50\n",
      "----------\n",
      "train Loss: 0.6256 Acc: 0.8044\n",
      "val Loss: 0.8217 Acc: 0.6358\n",
      "\n",
      "Epoch 13/50\n",
      "----------\n",
      "train Loss: 0.6823 Acc: 0.7444\n",
      "val Loss: 0.8338 Acc: 0.5802\n",
      "\n",
      "Epoch 14/50\n",
      "----------\n",
      "train Loss: 0.6390 Acc: 0.7556\n",
      "val Loss: 0.8205 Acc: 0.6049\n",
      "\n",
      "Epoch 15/50\n",
      "----------\n",
      "train Loss: 0.6443 Acc: 0.7689\n",
      "val Loss: 0.7874 Acc: 0.6358\n",
      "\n",
      "Epoch 16/50\n",
      "----------\n",
      "train Loss: 0.6234 Acc: 0.8044\n",
      "val Loss: 0.8591 Acc: 0.5802\n",
      "\n",
      "Epoch 17/50\n",
      "----------\n",
      "train Loss: 0.6957 Acc: 0.7200\n",
      "val Loss: 0.8644 Acc: 0.5494\n",
      "\n",
      "Epoch 18/50\n",
      "----------\n",
      "train Loss: 0.6864 Acc: 0.7578\n",
      "val Loss: 0.8773 Acc: 0.6296\n",
      "\n",
      "Epoch 19/50\n",
      "----------\n",
      "train Loss: 0.6635 Acc: 0.7422\n",
      "val Loss: 0.8298 Acc: 0.6420\n",
      "\n",
      "Epoch 20/50\n",
      "----------\n",
      "train Loss: 0.6181 Acc: 0.8222\n",
      "val Loss: 0.8428 Acc: 0.5617\n",
      "\n",
      "Epoch 21/50\n",
      "----------\n",
      "train Loss: 0.6408 Acc: 0.8000\n",
      "val Loss: 0.8551 Acc: 0.6173\n",
      "\n",
      "Epoch 22/50\n",
      "----------\n",
      "train Loss: 0.6245 Acc: 0.7822\n",
      "val Loss: 0.8289 Acc: 0.6420\n",
      "\n",
      "Epoch 23/50\n",
      "----------\n",
      "train Loss: 0.6334 Acc: 0.7844\n",
      "val Loss: 0.8490 Acc: 0.5679\n",
      "\n",
      "Epoch 24/50\n",
      "----------\n",
      "train Loss: 0.6359 Acc: 0.7800\n",
      "val Loss: 0.8720 Acc: 0.5802\n",
      "\n",
      "Epoch 25/50\n",
      "----------\n",
      "train Loss: 0.7109 Acc: 0.7311\n",
      "val Loss: 0.8168 Acc: 0.5988\n",
      "\n",
      "Epoch 26/50\n",
      "----------\n",
      "train Loss: 0.6663 Acc: 0.7689\n",
      "val Loss: 0.8117 Acc: 0.6235\n",
      "\n",
      "Epoch 27/50\n",
      "----------\n",
      "train Loss: 0.6699 Acc: 0.7556\n",
      "val Loss: 0.8516 Acc: 0.6173\n",
      "\n",
      "Epoch 28/50\n",
      "----------\n",
      "train Loss: 0.6583 Acc: 0.7800\n",
      "val Loss: 0.8211 Acc: 0.6667\n",
      "\n",
      "Epoch 29/50\n",
      "----------\n",
      "train Loss: 0.6489 Acc: 0.7911\n",
      "val Loss: 0.8052 Acc: 0.5988\n",
      "\n",
      "Epoch 30/50\n",
      "----------\n",
      "train Loss: 0.6254 Acc: 0.7822\n",
      "val Loss: 0.8115 Acc: 0.6235\n",
      "\n",
      "Epoch 31/50\n",
      "----------\n",
      "train Loss: 0.6392 Acc: 0.7822\n",
      "val Loss: 0.8556 Acc: 0.5864\n",
      "\n",
      "Epoch 32/50\n",
      "----------\n",
      "train Loss: 0.6247 Acc: 0.7867\n",
      "val Loss: 0.8417 Acc: 0.5679\n",
      "\n",
      "Epoch 33/50\n",
      "----------\n",
      "train Loss: 0.6284 Acc: 0.8000\n",
      "val Loss: 0.8435 Acc: 0.5679\n",
      "\n",
      "Epoch 34/50\n",
      "----------\n",
      "train Loss: 0.6384 Acc: 0.7644\n",
      "val Loss: 0.8411 Acc: 0.6173\n",
      "\n",
      "Epoch 35/50\n",
      "----------\n",
      "train Loss: 0.6411 Acc: 0.7956\n",
      "val Loss: 0.8113 Acc: 0.6543\n",
      "\n",
      "Epoch 36/50\n",
      "----------\n",
      "train Loss: 0.6672 Acc: 0.7489\n",
      "val Loss: 0.8608 Acc: 0.5988\n",
      "\n",
      "Epoch 37/50\n",
      "----------\n",
      "train Loss: 0.6572 Acc: 0.7400\n",
      "val Loss: 0.8295 Acc: 0.6049\n",
      "\n",
      "Epoch 38/50\n",
      "----------\n",
      "train Loss: 0.6390 Acc: 0.7600\n",
      "val Loss: 0.8409 Acc: 0.5988\n",
      "\n",
      "Epoch 39/50\n",
      "----------\n",
      "train Loss: 0.6744 Acc: 0.7556\n",
      "val Loss: 0.7929 Acc: 0.6790\n",
      "\n",
      "Epoch 40/50\n",
      "----------\n",
      "train Loss: 0.6136 Acc: 0.7933\n",
      "val Loss: 0.8125 Acc: 0.6420\n",
      "\n",
      "Epoch 41/50\n",
      "----------\n",
      "train Loss: 0.6619 Acc: 0.7600\n",
      "val Loss: 0.8426 Acc: 0.5926\n",
      "\n",
      "Epoch 42/50\n",
      "----------\n",
      "train Loss: 0.6175 Acc: 0.8200\n",
      "val Loss: 0.8284 Acc: 0.6111\n",
      "\n",
      "Epoch 43/50\n",
      "----------\n",
      "train Loss: 0.6538 Acc: 0.7511\n",
      "val Loss: 0.8680 Acc: 0.5432\n",
      "\n",
      "Epoch 44/50\n",
      "----------\n",
      "train Loss: 0.6684 Acc: 0.7556\n",
      "val Loss: 0.8988 Acc: 0.5247\n",
      "\n",
      "Epoch 45/50\n",
      "----------\n",
      "train Loss: 0.6533 Acc: 0.7578\n",
      "val Loss: 0.8186 Acc: 0.6111\n",
      "\n",
      "Epoch 46/50\n",
      "----------\n",
      "train Loss: 0.6536 Acc: 0.7422\n",
      "val Loss: 0.8857 Acc: 0.5494\n",
      "\n",
      "Epoch 47/50\n",
      "----------\n",
      "train Loss: 0.6664 Acc: 0.7533\n",
      "val Loss: 0.8381 Acc: 0.5864\n",
      "\n",
      "Epoch 48/50\n",
      "----------\n",
      "train Loss: 0.6553 Acc: 0.7711\n",
      "val Loss: 0.8346 Acc: 0.5864\n",
      "\n",
      "Epoch 49/50\n",
      "----------\n",
      "train Loss: 0.6479 Acc: 0.7578\n",
      "val Loss: 0.8253 Acc: 0.5988\n",
      "\n",
      "Epoch 50/50\n",
      "----------\n",
      "train Loss: 0.6402 Acc: 0.7556\n",
      "val Loss: 0.8227 Acc: 0.5926\n",
      "\n",
      "Training complete in 38m 26s\n"
     ]
    }
   ],
   "source": [
    "model_extract = train_model(model_extract, criterion, optimizer_ext,\n",
    "                         exp_lr_scheduler, num_epochs=50)"
   ]
  },
  {
   "cell_type": "code",
   "execution_count": 18,
   "metadata": {
    "ExecuteTime": {
     "end_time": "2020-01-10T15:53:03.447683Z",
     "start_time": "2020-01-10T15:52:40.443340Z"
    },
    "colab": {
     "base_uri": "https://localhost:8080/",
     "height": 34
    },
    "colab_type": "code",
    "id": "lyQ4twoSS7wB",
    "outputId": "d1db9dfb-ac52-4916-ef96-c8b9285ceea4"
   },
   "outputs": [
    {
     "name": "stdout",
     "output_type": "stream",
     "text": [
      "Accuracy: 71 %\n"
     ]
    }
   ],
   "source": [
    "def val_extract(model):\n",
    "    correct = 0\n",
    "    total = 0\n",
    "    with torch.no_grad():\n",
    "        for data in dataloaders[TEST]:\n",
    "            inputs, labels = data\n",
    "            # inputs = inputs.to(device)\n",
    "            # labels = labels.to(device)\n",
    "            outputs = model(inputs)\n",
    "            _, predicted = torch.max(outputs.data, 1)\n",
    "            #print(labels, predicted)\n",
    "            total += labels.size(0)\n",
    "            correct += (predicted == labels).sum().item()\n",
    "\n",
    "    print('Accuracy: %d %%' % (\n",
    "        100 * correct / total))\n",
    "    \n",
    "val_extract(model_extract)"
   ]
  },
  {
   "cell_type": "code",
   "execution_count": 0,
   "metadata": {
    "colab": {},
    "colab_type": "code",
    "id": "bAVIrNYqS7wC"
   },
   "outputs": [],
   "source": []
  }
 ],
 "metadata": {
  "accelerator": "GPU",
  "colab": {
   "collapsed_sections": [],
   "name": "Copy of 09_PyTorch_TransferLearning_Jim.ipynb",
   "provenance": [],
   "toc_visible": true
  },
  "kernelspec": {
   "display_name": "Python 3",
   "language": "python",
   "name": "python3"
  },
  "language_info": {
   "codemirror_mode": {
    "name": "ipython",
    "version": 3
   },
   "file_extension": ".py",
   "mimetype": "text/x-python",
   "name": "python",
   "nbconvert_exporter": "python",
   "pygments_lexer": "ipython3",
   "version": "3.7.6"
  },
  "toc": {
   "nav_menu": {},
   "number_sections": true,
   "sideBar": true,
   "skip_h1_title": false,
   "toc_cell": false,
   "toc_position": {},
   "toc_section_display": "block",
   "toc_window_display": false
  }
 },
 "nbformat": 4,
 "nbformat_minor": 1
}
