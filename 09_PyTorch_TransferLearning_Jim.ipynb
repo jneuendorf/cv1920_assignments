{
 "cells": [
  {
   "cell_type": "markdown",
   "metadata": {},
   "source": [
    "# Assignment 9\n",
    "\n",
    "Neural need huge amount of data to be able to perform well. Huge amount of data means huge computation power... To bypass the fact that we don't own this kind of machine, we will us the transfer leaning. By using a pretrained network (usually on ImageNet) and train it a little bit, we can avoid most of the computationnal power needed to perform our task. We will work on the ResNet network (https://arxiv.org/pdf/1512.03385.pdf) designed in 2014. \n",
    "Then, because we know you all have a degree in medicine, we will try our luck bu doing some! We will then retrain the last layer of the network to be able to recognize leopard and cheetah. The cheetah mini database is in the image folder."
   ]
  },
  {
   "cell_type": "code",
   "execution_count": 5,
   "metadata": {
    "ExecuteTime": {
     "end_time": "2020-01-10T12:50:47.089693Z",
     "start_time": "2020-01-10T12:50:45.623080Z"
    }
   },
   "outputs": [],
   "source": [
    "from __future__ import print_function, division\n",
    "import torch\n",
    "import torch.nn as nn\n",
    "import torch.optim as optim\n",
    "from torch.optim import lr_scheduler\n",
    "import numpy as np\n",
    "import torchvision\n",
    "from torchvision import datasets, models, transforms\n",
    "import matplotlib.pyplot as plt\n",
    "import time\n",
    "import os\n",
    "import copy\n",
    "\n",
    "\n",
    "plt.ion()   # interactive mode"
   ]
  },
  {
   "cell_type": "code",
   "execution_count": 6,
   "metadata": {
    "ExecuteTime": {
     "end_time": "2020-01-10T12:50:47.130783Z",
     "start_time": "2020-01-10T12:50:47.092751Z"
    }
   },
   "outputs": [
    {
     "name": "stdout",
     "output_type": "stream",
     "text": [
      "Loaded 450 images under train\n",
      "Loaded 162 images under val\n",
      "Classes: \n",
      "['cheetah', 'leopard', 'unknown']\n"
     ]
    }
   ],
   "source": [
    "data_dir = 'images/cheetah_data_mini'\n",
    "TRAIN = 'train'\n",
    "TEST = 'val'\n",
    "\n",
    "# ResNet Takes 224x224 images as input, so we resize all of them\n",
    "data_transforms = {\n",
    "    TRAIN: transforms.Compose([\n",
    "        transforms.RandomResizedCrop(224),\n",
    "        transforms.RandomHorizontalFlip(),\n",
    "        transforms.ToTensor(),\n",
    "        transforms.Normalize([0.485, 0.456, 0.406], [0.229, 0.224, 0.225])\n",
    "    ]),\n",
    "    TEST: transforms.Compose([\n",
    "        transforms.Resize(256),\n",
    "        transforms.CenterCrop(224),\n",
    "        transforms.ToTensor(),\n",
    "        transforms.Normalize([0.485, 0.456, 0.406], [0.229, 0.224, 0.225])\n",
    "    ]),\n",
    "}\n",
    "\n",
    "image_datasets = {\n",
    "    x: datasets.ImageFolder(\n",
    "        os.path.join(data_dir, x), \n",
    "        transform=data_transforms[x]\n",
    "    )\n",
    "    for x in [TRAIN, TEST]\n",
    "}\n",
    "\n",
    "dataloaders = {\n",
    "    x: torch.utils.data.DataLoader(\n",
    "        image_datasets[x], batch_size=4,\n",
    "        shuffle=True, num_workers=4\n",
    "    )\n",
    "    for x in [TRAIN, TEST]\n",
    "}\n",
    "\n",
    "dataset_sizes = {x: len(image_datasets[x]) for x in [TRAIN, TEST]}\n",
    "\n",
    "device = torch.device(\"cuda:0\" if torch.cuda.is_available() else \"cpu\")\n",
    "\n",
    "for x in [TRAIN, TEST]:\n",
    "    print(\"Loaded {} images under {}\".format(dataset_sizes[x], x))\n",
    "    \n",
    "print(\"Classes: \")\n",
    "class_names = image_datasets[TRAIN].classes\n",
    "print(image_datasets[TRAIN].classes)"
   ]
  },
  {
   "cell_type": "code",
   "execution_count": 7,
   "metadata": {
    "ExecuteTime": {
     "end_time": "2020-01-10T12:50:47.176999Z",
     "start_time": "2020-01-10T12:50:47.136283Z"
    }
   },
   "outputs": [
    {
     "data": {
      "text/plain": [
       "'\\n# Get a batch of training data\\ninputs, classes = next(iter(dataloaders[TRAIN]))\\nshow_databatch(inputs, classes)\\n'"
      ]
     },
     "execution_count": 7,
     "metadata": {},
     "output_type": "execute_result"
    }
   ],
   "source": [
    "def imshow(inp, title=None):\n",
    "    inp = inp.numpy().transpose((1, 2, 0))\n",
    "    # plt.figure(figsize=(10, 10))\n",
    "    plt.axis('off')\n",
    "    plt.imshow(inp)\n",
    "    if title is not None:\n",
    "        plt.title(title)\n",
    "    plt.pause(0.001)\n",
    "\n",
    "def show_databatch(inputs, classes):\n",
    "    out = torchvision.utils.make_grid(inputs)\n",
    "    print(out.shape)\n",
    "    print(out[:,:,15].shape)\n",
    "    imshow(out, title=[class_names[x] for x in classes])\n",
    "\"\"\"\n",
    "# Get a batch of training data\n",
    "inputs, classes = next(iter(dataloaders[TRAIN]))\n",
    "show_databatch(inputs, classes)\n",
    "\"\"\""
   ]
  },
  {
   "cell_type": "markdown",
   "metadata": {},
   "source": [
    "## Pretrained network\n",
    "\n",
    "Now load a network pre-trained on Imagenet and classify the validation data. You can import a pretrained model directly from pytorch with models.resnet18(pretrained=True). The labels are already used in ImageNet so try to recognize the database directly using the output of the pretrained network on the validation database."
   ]
  },
  {
   "cell_type": "code",
   "execution_count": 8,
   "metadata": {
    "ExecuteTime": {
     "end_time": "2020-01-10T12:50:47.845114Z",
     "start_time": "2020-01-10T12:50:47.183496Z"
    }
   },
   "outputs": [
    {
     "name": "stderr",
     "output_type": "stream",
     "text": [
      "Downloading: \"https://download.pytorch.org/models/resnet18-5c106cde.pth\" to /Users/jimneuendorf/.cache/torch/checkpoints/resnet18-5c106cde.pth\n",
      "100%|██████████| 44.7M/44.7M [01:40<00:00, 467kB/s] \n"
     ]
    }
   ],
   "source": [
    "# NET\n",
    "model_vanilla = torchvision.models.resnet18(pretrained=True)"
   ]
  },
  {
   "cell_type": "code",
   "execution_count": 9,
   "metadata": {
    "ExecuteTime": {
     "end_time": "2020-01-10T12:50:47.862655Z",
     "start_time": "2020-01-10T12:50:47.848232Z"
    }
   },
   "outputs": [],
   "source": [
    "for param in model_vanilla.parameters():\n",
    "    param.requires_grad = False"
   ]
  },
  {
   "cell_type": "code",
   "execution_count": 10,
   "metadata": {
    "ExecuteTime": {
     "end_time": "2020-01-10T12:50:47.905410Z",
     "start_time": "2020-01-10T12:50:47.890015Z"
    }
   },
   "outputs": [],
   "source": [
    "# cheetah = 293; leopard = 288;"
   ]
  },
  {
   "cell_type": "code",
   "execution_count": 11,
   "metadata": {
    "ExecuteTime": {
     "end_time": "2020-01-10T12:51:06.966532Z",
     "start_time": "2020-01-10T12:50:47.910742Z"
    }
   },
   "outputs": [
    {
     "name": "stdout",
     "output_type": "stream",
     "text": [
      "tensor([494, 911, 361, 210])\n",
      "tensor([998, 882, 539, 307])\n",
      "tensor([587, 150, 494, 293])\n",
      "tensor([749,  92, 758, 345])\n",
      "tensor([164, 733, 835, 568])\n",
      "tensor([178, 646, 758, 251])\n",
      "tensor([497, 678, 462, 363])\n",
      "tensor([293, 845, 696, 676])\n",
      "tensor([541, 818, 463,  50])\n",
      "tensor([764,  86, 541, 666])\n",
      "tensor([728, 210, 595, 113])\n",
      "tensor([866,  71, 710, 770])\n",
      "tensor([ 87, 733,  26, 162])\n",
      "tensor([ 94, 618, 845, 580])\n",
      "tensor([409, 855, 456, 341])\n",
      "tensor([618,  36, 184, 733])\n",
      "tensor([552, 273, 708, 845])\n",
      "tensor([805, 359, 733, 345])\n",
      "tensor([171, 506, 988, 733])\n",
      "tensor([464, 448, 172, 868])\n",
      "tensor([276, 248, 522, 518])\n",
      "tensor([728,  39, 490, 417])\n",
      "tensor([515, 122, 616, 164])\n",
      "tensor([845, 407, 452,  99])\n",
      "tensor([583, 329, 356, 749])\n",
      "tensor([852, 749, 494, 845])\n",
      "tensor([494, 348, 674, 770])\n",
      "tensor([329,  42, 556, 428])\n",
      "tensor([876, 747, 772, 177])\n",
      "tensor([845, 856, 695, 171])\n",
      "tensor([731, 859, 695,  60])\n",
      "tensor([855, 356, 830, 577])\n",
      "tensor([625, 684, 749, 356])\n",
      "tensor([464, 899, 733, 994])\n",
      "tensor([778, 476, 114, 345])\n",
      "tensor([417, 618, 515, 337])\n",
      "tensor([217, 758, 749, 515])\n",
      "tensor([463, 240,  87, 733])\n",
      "tensor([806, 566, 676, 921])\n",
      "tensor([580, 828, 616, 856])\n",
      "tensor([636, 643])\n",
      "Accuracy: 34 %\n"
     ]
    }
   ],
   "source": [
    "# TEST THE NET ON OUR DATASET\n",
    "def switch_class_idx(predicted):\n",
    "    for x in range(predicted.shape[0]):\n",
    "        if predicted[x] == 293:\n",
    "            predicted[x] = 0\n",
    "        elif predicted[x] == 288:\n",
    "            predicted[x] = 1\n",
    "        else:\n",
    "            predicted[x] = 2\n",
    "    return predicted\n",
    "\n",
    "def val_pretrained(model):\n",
    "    correct = 0\n",
    "    total = 0\n",
    "    with torch.no_grad():\n",
    "        for data in dataloaders[TEST]:\n",
    "            images, labels = data\n",
    "            outputs = model(images)\n",
    "            _, predicted = torch.max(outputs.data, 1)\n",
    "            print(predicted)\n",
    "            predicted = switch_class_idx(predicted)\n",
    "            #print(labels, predicted)\n",
    "            total += labels.size(0)\n",
    "            correct += (predicted == labels).sum().item()\n",
    "\n",
    "    print('Accuracy: %d %%' % (\n",
    "        100 * correct / total))\n",
    "\n",
    "val_pretrained(model_vanilla)"
   ]
  },
  {
   "cell_type": "markdown",
   "metadata": {},
   "source": [
    "## Transfer learning\n",
    "\n",
    "The pre-trained network can now be further trained with our data. Replace the last layer in the network with a fully connected Layer with 3 outputs for our classes cheetah, leopard and unknown. Then train the last layer of the network."
   ]
  },
  {
   "cell_type": "code",
   "execution_count": 12,
   "metadata": {
    "ExecuteTime": {
     "end_time": "2020-01-10T12:59:18.824842Z",
     "start_time": "2020-01-10T12:59:18.775586Z"
    }
   },
   "outputs": [],
   "source": [
    "def train_model(model, criterion, optimizer, scheduler, num_epochs=25):\n",
    "    since = time.time()\n",
    "\n",
    "    for epoch in range(num_epochs):\n",
    "        print('Epoch {}/{}'.format(epoch+1, num_epochs))\n",
    "        print('-' * 10)\n",
    "        \n",
    "        model.train()\n",
    "\n",
    "        running_loss = 0.0\n",
    "        running_corrects = 0\n",
    "\n",
    "        # Iterate over data.\n",
    "        for inputs, labels in dataloaders[TRAIN]:\n",
    "            \n",
    "            # zero the parameter gradients\n",
    "            optimizer.zero_grad()\n",
    "\n",
    "            # forward\n",
    "            # track history if only in train\n",
    "            with torch.set_grad_enabled(True):\n",
    "                outputs = model(inputs)\n",
    "                _, preds = torch.max(outputs, 1)\n",
    "                loss = criterion(outputs, labels)\n",
    "                loss.backward()\n",
    "                optimizer.step()\n",
    "\n",
    "                # statistics\n",
    "                running_loss += loss.item() * inputs.size(0)\n",
    "                running_corrects += torch.sum(preds == labels.data)\n",
    "                \n",
    "            scheduler.step()\n",
    "\n",
    "            epoch_loss = running_loss / dataset_sizes[TRAIN]\n",
    "            epoch_acc = running_corrects.double() / dataset_sizes[TRAIN]\n",
    "\n",
    "        print('{} Loss: {:.4f} Acc: {:.4f}'.format(\n",
    "            \"TRAIN\", epoch_loss, epoch_acc))\n",
    "\n",
    "        print()\n",
    "\n",
    "    time_elapsed = time.time() - since\n",
    "    print('Training complete in {:.0f}m {:.0f}s'.format(\n",
    "        time_elapsed // 60, time_elapsed % 60))\n",
    "\n",
    "    return model"
   ]
  },
  {
   "cell_type": "code",
   "execution_count": 13,
   "metadata": {
    "ExecuteTime": {
     "end_time": "2020-01-10T15:24:54.060907Z",
     "start_time": "2020-01-10T15:24:53.411054Z"
    }
   },
   "outputs": [],
   "source": [
    "# FEATURE EXTRACTING\n",
    "model_extract = torchvision.models.resnet18(pretrained=True)\n",
    "for param in model_extract.parameters():\n",
    "    param.requires_grad = False\n",
    "\n",
    "# Parameters of newly constructed modules have requires_grad=True by default\n",
    "num_ftrs = model_extract.fc.in_features\n",
    "model_extract.fc = nn.Linear(num_ftrs, 3)\n",
    "\n",
    "criterion = nn.CrossEntropyLoss()\n",
    "optimizer_ext = optim.SGD(model_extract.fc.parameters(), lr=.0001, momentum=0.9)\n",
    "\n",
    "# Decay LR by a factor\n",
    "exp_lr_scheduler = lr_scheduler.StepLR(optimizer_ext, step_size=5, gamma=0.1)"
   ]
  },
  {
   "cell_type": "code",
   "execution_count": 15,
   "metadata": {
    "ExecuteTime": {
     "end_time": "2020-01-10T15:52:40.417855Z",
     "start_time": "2020-01-10T15:24:55.106853Z"
    }
   },
   "outputs": [
    {
     "name": "stdout",
     "output_type": "stream",
     "text": [
      "Epoch 1/3\n",
      "----------\n",
      "TRAIN Loss: 1.2010 Acc: 0.3600\n",
      "\n",
      "Epoch 2/3\n",
      "----------\n",
      "TRAIN Loss: 1.2009 Acc: 0.3267\n",
      "\n",
      "Epoch 3/3\n",
      "----------\n",
      "TRAIN Loss: 1.2007 Acc: 0.3356\n",
      "\n",
      "Training complete in 2m 28s\n"
     ]
    }
   ],
   "source": [
    "model_extract = train_model(model_extract, criterion, optimizer_ext,\n",
    "                         exp_lr_scheduler, num_epochs=3)"
   ]
  },
  {
   "cell_type": "code",
   "execution_count": null,
   "metadata": {
    "ExecuteTime": {
     "end_time": "2020-01-10T15:53:03.447683Z",
     "start_time": "2020-01-10T15:52:40.443340Z"
    }
   },
   "outputs": [],
   "source": [
    "def val_extract(model):\n",
    "    correct = 0\n",
    "    total = 0\n",
    "    with torch.no_grad():\n",
    "        for data in dataloaders[TEST]:\n",
    "            images, labels = data\n",
    "            outputs = model(images)\n",
    "            _, predicted = torch.max(outputs.data, 1)\n",
    "            #print(labels, predicted)\n",
    "            total += labels.size(0)\n",
    "            correct += (predicted == labels).sum().item()\n",
    "\n",
    "    print('Accuracy: %d %%' % (\n",
    "        100 * correct / total))\n",
    "    \n",
    "val_extract(model_extract)"
   ]
  },
  {
   "cell_type": "code",
   "execution_count": null,
   "metadata": {},
   "outputs": [],
   "source": []
  }
 ],
 "metadata": {
  "kernelspec": {
   "display_name": "assignments",
   "language": "python",
   "name": "assignments"
  },
  "language_info": {
   "codemirror_mode": {
    "name": "ipython",
    "version": 3
   },
   "file_extension": ".py",
   "mimetype": "text/x-python",
   "name": "python",
   "nbconvert_exporter": "python",
   "pygments_lexer": "ipython3",
   "version": "3.7.6"
  },
  "toc": {
   "nav_menu": {},
   "number_sections": true,
   "sideBar": true,
   "skip_h1_title": false,
   "toc_cell": false,
   "toc_position": {},
   "toc_section_display": "block",
   "toc_window_display": false
  }
 },
 "nbformat": 4,
 "nbformat_minor": 2
}
